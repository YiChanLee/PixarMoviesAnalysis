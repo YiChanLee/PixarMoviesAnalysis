{
 "cells": [
  {
   "cell_type": "markdown",
   "metadata": {},
   "source": [
    "<h1> Pixar Movie data visualisation </h1>\n",
    "<p>\n",
    "    This notebook is derived from the guided project in <a href=\"https://www.dataquest.io/\">DataQuest.io</a>.\n",
    "    In this notebook, I will go through the data visualisation of pixar's movie and see what insight I can develop in this dataset by using ipython notebook.\n",
    "</p>\n",
    "<p>\n",
    "    The part of rating in this dataset is from <a href=\"https://github.com/apalbright\">Alex Albright</a>'s <a href=\"https://github.com/apalbright/Pixar/blob/master/Pixar.csv\">GitHub repo</a>.\n",
    "    Please visit her great <a href=\"https://thelittledataset.com/\">website</a> to find more data-driven projects including the visualisation of this dataset via R <a href=\"https://thelittledataset.com/2015/06/30/the-multidimensional-success-of-pixar-films-visualized/\">here</a>.\n",
    "    The other parts of data like opening weekend, gross, etc, are gathered by Dataquest.io from \n",
    "    <a href=\"http://www.boxofficemojo.com/\">Box Office Mojo</a>.\n",
    "</p>\n",
    "<p>\n",
    "    This notebook is a practice of what I know and also a note for myself to review in the future in case I forget anything. So in the most of steps, I will add a markdown to illustrate the step and maybe some relavent information, and might make the notebook looks tedious. I might build another cleaning version later. \n",
    "</p>\n",
    "<p>\n",
    "    Please feel free to send me a message via james.lee.yichan@gmail.com if you have any comment, suggestion, etc..\n",
    "</p>\n"
   ]
  },
  {
   "cell_type": "markdown",
   "metadata": {},
   "source": [
    "<h3> Step 1: import useful packages </h3>\n",
    "\n",
    "<h4> Pandas </h4>\n",
    "<p>\n",
    "    Pandas is a useful tool for data management and data structure.\n",
    "    Its most important object is Dataframe \n",
    "    which equipped with a bunch of methods for manipulating and exploring structured data.<br/>\n",
    "    <a href=\"http://pandas.pydata.org/pandas-docs/stable/10min.html\">Here is a 10 minutes tutorial for pandas.</a>\n",
    "</p>\n",
    "\n",
    "<h4> Numpy </h4>\n",
    "<p>\n",
    "    <a href=\"http://www.numpy.org/\">Numpy</a> is a poweful tool making python able to deal with n-dim array.\n",
    "</p>\n",
    "\n",
    "<h4> Matplotlib </h4>\n",
    "<p>\n",
    "    Matplotlib is a python plotting library.\n",
    "    Its pyplot interface is Matlab-like. \n",
    "    It contains both easy-to-use interface and step-by-step drawing methods.<br/>\n",
    "    <a href=\"http://matplotlib.org/users/beginner.html\">Here is its beginner guide</a>\n",
    "</p>\n",
    "\n",
    "<h4> Seaborn </h4>\n",
    "<p>\n",
    "    It's also a plotting tool based on matplotlib.\n",
    "    It's interface is very simple to use and also the theme of most of graph is well tuned,\n",
    "    which means people like me having no sense of beauty don't need to worry about how to match the color, ratio, etc.\n",
    "    to make a nice bar chart. I comment it so we can keep the original style of matplotlib and so readers can see the difference.<br/>\n",
    "<b>Two important notes:</b>\n",
    "    <ol>\n",
    "        <li>\n",
    "            After import seaborn, the default plotsetting of matplotlib will be overwrote.\n",
    "            In other words, even you call a plot method of matplotlib but not from seaborn,\n",
    "            the format of plot is still not the original matplot setting.\n",
    "        </li>\n",
    "        <li>\n",
    "            Outliers of box plot from matplotlib are disapear if I import seaborn. I will discuss more details later.\n",
    "        </li>\n",
    "    </ol>\n",
    "</p>\n",
    "\n",
    "<h4> Requests </h4>\n",
    "<p>\n",
    "    A package helps us to access the content of website such as html source file or API. Click <a href=\"http://docs.python-requests.org/en/master/\">Here</a> for detail.\n",
    "</p>\n",
    "\n",
    "<h4> beautifulsoup4 </h4>\n",
    "<p>\n",
    "    A package helps us extracting the data we need from html files. <a href=\"https://www.crummy.com/software/BeautifulSoup/bs4/doc/\">Here</a> for more information.\n",
    "    <b>Important note:</b> The package name used for import is bs4 instead of beautiful-soup or beautifulsoup4. I haven't figured out the reason. \n",
    "</p>"
   ]
  },
  {
   "cell_type": "code",
   "execution_count": 1,
   "metadata": {
    "collapsed": true
   },
   "outputs": [],
   "source": [
    "import pandas as pd\n",
    "\n",
    "import numpy as np\n",
    "\n",
    "import matplotlib.pyplot as plt\n",
    "# import seaborn as sns\n",
    "\n",
    "import requests\n",
    "import bs4\n",
    "\n",
    "%matplotlib inline"
   ]
  },
  {
   "cell_type": "markdown",
   "metadata": {},
   "source": [
    "<h3> Step 2: Read the CSV file </h3>\n",
    "<p>\n",
    "    pandas.read_csv reads Comma-separated values (CSV) file into a Dataframe object. <a href=\"http://pandas.pydata.org/pandas-docs/stable/generated/pandas.DataFrame.html\">Here</a> for more detail about Dataframe object.\n",
    "</p>\n"
   ]
  },
  {
   "cell_type": "code",
   "execution_count": 2,
   "metadata": {
    "collapsed": true
   },
   "outputs": [],
   "source": [
    "pixar_movies = pd.read_csv(\"data/PixarMovies.csv\")"
   ]
  },
  {
   "cell_type": "markdown",
   "metadata": {},
   "source": [
    "<h3>Step 3: A quick survey of data</h3>\n",
    "<p>\n",
    "    Dataframe.shape gives the number of rows and columns of the dataframe.<br/>\n",
    "    (15, 16) here means there are 15 movies in the data and 16 features about these movies\n",
    "</p>"
   ]
  },
  {
   "cell_type": "code",
   "execution_count": 3,
   "metadata": {
    "collapsed": false
   },
   "outputs": [
    {
     "data": {
      "text/plain": [
       "(15, 16)"
      ]
     },
     "execution_count": 3,
     "metadata": {},
     "output_type": "execute_result"
    }
   ],
   "source": [
    "pixar_movies.shape"
   ]
  },
  {
   "cell_type": "markdown",
   "metadata": {},
   "source": [
    "Dataframe.dtypes to me is quite useful. It returns the column name and their datatype. So I can clear see what features this data has. So in pixar_movies, there are int, float and object data. String will be shown as object instead of str."
   ]
  },
  {
   "cell_type": "code",
   "execution_count": 4,
   "metadata": {
    "collapsed": false
   },
   "outputs": [
    {
     "data": {
      "text/plain": [
       "Year Released                int64\n",
       "Movie                       object\n",
       "Length                       int64\n",
       "RT Score                     int64\n",
       "IMDB Score                 float64\n",
       "Metacritic Score             int64\n",
       "Opening Weekend            float64\n",
       "Worldwide Gross            float64\n",
       "Domestic Gross             float64\n",
       "Adjusted Domestic Gross    float64\n",
       "International Gross        float64\n",
       "Domestic %                  object\n",
       "International %             object\n",
       "Production Budget            int64\n",
       "Oscars Nominated           float64\n",
       "Oscars Won                 float64\n",
       "dtype: object"
      ]
     },
     "execution_count": 4,
     "metadata": {},
     "output_type": "execute_result"
    }
   ],
   "source": [
    "pixar_movies.dtypes"
   ]
  },
  {
   "cell_type": "markdown",
   "metadata": {},
   "source": [
    "If I want see more clearly, I would use Dataframe.head() to see the first few rows of data. \n",
    "<a href=\"http://pandas.pydata.org/pandas-docs/stable/generated/pandas.DataFrame.describe.html\">Here</a> is its documentation."
   ]
  },
  {
   "cell_type": "code",
   "execution_count": 5,
   "metadata": {
    "collapsed": false
   },
   "outputs": [
    {
     "data": {
      "text/html": [
       "<div>\n",
       "<table border=\"1\" class=\"dataframe\">\n",
       "  <thead>\n",
       "    <tr style=\"text-align: right;\">\n",
       "      <th></th>\n",
       "      <th>Year Released</th>\n",
       "      <th>Movie</th>\n",
       "      <th>Length</th>\n",
       "      <th>RT Score</th>\n",
       "      <th>IMDB Score</th>\n",
       "      <th>Metacritic Score</th>\n",
       "      <th>Opening Weekend</th>\n",
       "      <th>Worldwide Gross</th>\n",
       "      <th>Domestic Gross</th>\n",
       "      <th>Adjusted Domestic Gross</th>\n",
       "      <th>International Gross</th>\n",
       "      <th>Domestic %</th>\n",
       "      <th>International %</th>\n",
       "      <th>Production Budget</th>\n",
       "      <th>Oscars Nominated</th>\n",
       "      <th>Oscars Won</th>\n",
       "    </tr>\n",
       "  </thead>\n",
       "  <tbody>\n",
       "    <tr>\n",
       "      <th>0</th>\n",
       "      <td>1995</td>\n",
       "      <td>Toy Story</td>\n",
       "      <td>81</td>\n",
       "      <td>100</td>\n",
       "      <td>8.3</td>\n",
       "      <td>92</td>\n",
       "      <td>29.14</td>\n",
       "      <td>362.0</td>\n",
       "      <td>191.8</td>\n",
       "      <td>356.21</td>\n",
       "      <td>170.2</td>\n",
       "      <td>52.98%</td>\n",
       "      <td>47.02%</td>\n",
       "      <td>30</td>\n",
       "      <td>3.0</td>\n",
       "      <td>0.0</td>\n",
       "    </tr>\n",
       "    <tr>\n",
       "      <th>1</th>\n",
       "      <td>1998</td>\n",
       "      <td>A Bug's Life</td>\n",
       "      <td>96</td>\n",
       "      <td>92</td>\n",
       "      <td>7.2</td>\n",
       "      <td>77</td>\n",
       "      <td>33.26</td>\n",
       "      <td>363.4</td>\n",
       "      <td>162.8</td>\n",
       "      <td>277.18</td>\n",
       "      <td>200.6</td>\n",
       "      <td>44.80%</td>\n",
       "      <td>55.20%</td>\n",
       "      <td>45</td>\n",
       "      <td>1.0</td>\n",
       "      <td>0.0</td>\n",
       "    </tr>\n",
       "    <tr>\n",
       "      <th>2</th>\n",
       "      <td>1999</td>\n",
       "      <td>Toy Story 2</td>\n",
       "      <td>92</td>\n",
       "      <td>100</td>\n",
       "      <td>7.9</td>\n",
       "      <td>88</td>\n",
       "      <td>57.39</td>\n",
       "      <td>485.0</td>\n",
       "      <td>245.9</td>\n",
       "      <td>388.43</td>\n",
       "      <td>239.2</td>\n",
       "      <td>50.70%</td>\n",
       "      <td>49.32%</td>\n",
       "      <td>90</td>\n",
       "      <td>1.0</td>\n",
       "      <td>0.0</td>\n",
       "    </tr>\n",
       "    <tr>\n",
       "      <th>3</th>\n",
       "      <td>2001</td>\n",
       "      <td>Monsters, Inc.</td>\n",
       "      <td>90</td>\n",
       "      <td>96</td>\n",
       "      <td>8.1</td>\n",
       "      <td>78</td>\n",
       "      <td>62.58</td>\n",
       "      <td>528.8</td>\n",
       "      <td>255.9</td>\n",
       "      <td>366.12</td>\n",
       "      <td>272.9</td>\n",
       "      <td>48.39%</td>\n",
       "      <td>51.61%</td>\n",
       "      <td>115</td>\n",
       "      <td>3.0</td>\n",
       "      <td>1.0</td>\n",
       "    </tr>\n",
       "    <tr>\n",
       "      <th>4</th>\n",
       "      <td>2003</td>\n",
       "      <td>Finding Nemo</td>\n",
       "      <td>104</td>\n",
       "      <td>99</td>\n",
       "      <td>8.2</td>\n",
       "      <td>90</td>\n",
       "      <td>70.25</td>\n",
       "      <td>895.6</td>\n",
       "      <td>339.7</td>\n",
       "      <td>457.46</td>\n",
       "      <td>555.9</td>\n",
       "      <td>37.93%</td>\n",
       "      <td>62.07%</td>\n",
       "      <td>94</td>\n",
       "      <td>4.0</td>\n",
       "      <td>1.0</td>\n",
       "    </tr>\n",
       "  </tbody>\n",
       "</table>\n",
       "</div>"
      ],
      "text/plain": [
       "   Year Released           Movie  Length  RT Score  IMDB Score  \\\n",
       "0           1995       Toy Story      81       100         8.3   \n",
       "1           1998    A Bug's Life      96        92         7.2   \n",
       "2           1999     Toy Story 2      92       100         7.9   \n",
       "3           2001  Monsters, Inc.      90        96         8.1   \n",
       "4           2003    Finding Nemo     104        99         8.2   \n",
       "\n",
       "   Metacritic Score  Opening Weekend  Worldwide Gross  Domestic Gross  \\\n",
       "0                92            29.14            362.0           191.8   \n",
       "1                77            33.26            363.4           162.8   \n",
       "2                88            57.39            485.0           245.9   \n",
       "3                78            62.58            528.8           255.9   \n",
       "4                90            70.25            895.6           339.7   \n",
       "\n",
       "   Adjusted Domestic Gross  International Gross Domestic % International %  \\\n",
       "0                   356.21                170.2     52.98%          47.02%   \n",
       "1                   277.18                200.6     44.80%          55.20%   \n",
       "2                   388.43                239.2     50.70%          49.32%   \n",
       "3                   366.12                272.9     48.39%          51.61%   \n",
       "4                   457.46                555.9     37.93%          62.07%   \n",
       "\n",
       "   Production Budget  Oscars Nominated  Oscars Won  \n",
       "0                 30               3.0         0.0  \n",
       "1                 45               1.0         0.0  \n",
       "2                 90               1.0         0.0  \n",
       "3                115               3.0         1.0  \n",
       "4                 94               4.0         1.0  "
      ]
     },
     "execution_count": 5,
     "metadata": {},
     "output_type": "execute_result"
    }
   ],
   "source": [
    "pixar_movies.head()"
   ]
  },
  {
   "cell_type": "markdown",
   "metadata": {},
   "source": [
    "Another quick survey method, especially useful for numeric type of data, is Dataframe.describe()."
   ]
  },
  {
   "cell_type": "code",
   "execution_count": 6,
   "metadata": {
    "collapsed": false,
    "scrolled": true
   },
   "outputs": [
    {
     "data": {
      "text/html": [
       "<div>\n",
       "<table border=\"1\" class=\"dataframe\">\n",
       "  <thead>\n",
       "    <tr style=\"text-align: right;\">\n",
       "      <th></th>\n",
       "      <th>Year Released</th>\n",
       "      <th>Length</th>\n",
       "      <th>RT Score</th>\n",
       "      <th>IMDB Score</th>\n",
       "      <th>Metacritic Score</th>\n",
       "      <th>Opening Weekend</th>\n",
       "      <th>Worldwide Gross</th>\n",
       "      <th>Domestic Gross</th>\n",
       "      <th>Adjusted Domestic Gross</th>\n",
       "      <th>International Gross</th>\n",
       "      <th>Production Budget</th>\n",
       "      <th>Oscars Nominated</th>\n",
       "      <th>Oscars Won</th>\n",
       "    </tr>\n",
       "  </thead>\n",
       "  <tbody>\n",
       "    <tr>\n",
       "      <th>count</th>\n",
       "      <td>15.000000</td>\n",
       "      <td>15.000000</td>\n",
       "      <td>15.000000</td>\n",
       "      <td>15.000000</td>\n",
       "      <td>15.000000</td>\n",
       "      <td>15.000000</td>\n",
       "      <td>15.000000</td>\n",
       "      <td>15.000000</td>\n",
       "      <td>15.000000</td>\n",
       "      <td>15.000000</td>\n",
       "      <td>15.000000</td>\n",
       "      <td>14.000000</td>\n",
       "      <td>14.000000</td>\n",
       "    </tr>\n",
       "    <tr>\n",
       "      <th>mean</th>\n",
       "      <td>2006.066667</td>\n",
       "      <td>101.533333</td>\n",
       "      <td>89.333333</td>\n",
       "      <td>7.846667</td>\n",
       "      <td>82.800000</td>\n",
       "      <td>67.990667</td>\n",
       "      <td>612.486667</td>\n",
       "      <td>258.506667</td>\n",
       "      <td>318.448000</td>\n",
       "      <td>353.986667</td>\n",
       "      <td>133.400000</td>\n",
       "      <td>2.857143</td>\n",
       "      <td>0.785714</td>\n",
       "    </tr>\n",
       "    <tr>\n",
       "      <th>std</th>\n",
       "      <td>5.933761</td>\n",
       "      <td>9.927355</td>\n",
       "      <td>16.451950</td>\n",
       "      <td>0.655599</td>\n",
       "      <td>12.119642</td>\n",
       "      <td>23.270468</td>\n",
       "      <td>190.193934</td>\n",
       "      <td>66.518284</td>\n",
       "      <td>73.321064</td>\n",
       "      <td>135.061615</td>\n",
       "      <td>59.696614</td>\n",
       "      <td>2.032700</td>\n",
       "      <td>0.801784</td>\n",
       "    </tr>\n",
       "    <tr>\n",
       "      <th>min</th>\n",
       "      <td>1995.000000</td>\n",
       "      <td>81.000000</td>\n",
       "      <td>39.000000</td>\n",
       "      <td>6.300000</td>\n",
       "      <td>57.000000</td>\n",
       "      <td>29.140000</td>\n",
       "      <td>362.000000</td>\n",
       "      <td>162.800000</td>\n",
       "      <td>194.430000</td>\n",
       "      <td>170.200000</td>\n",
       "      <td>30.000000</td>\n",
       "      <td>0.000000</td>\n",
       "      <td>0.000000</td>\n",
       "    </tr>\n",
       "    <tr>\n",
       "      <th>25%</th>\n",
       "      <td>2002.000000</td>\n",
       "      <td>96.000000</td>\n",
       "      <td>85.000000</td>\n",
       "      <td>7.300000</td>\n",
       "      <td>75.000000</td>\n",
       "      <td>58.755000</td>\n",
       "      <td>503.150000</td>\n",
       "      <td>215.100000</td>\n",
       "      <td>261.350000</td>\n",
       "      <td>256.050000</td>\n",
       "      <td>91.000000</td>\n",
       "      <td>1.000000</td>\n",
       "      <td>0.000000</td>\n",
       "    </tr>\n",
       "    <tr>\n",
       "      <th>50%</th>\n",
       "      <td>2007.000000</td>\n",
       "      <td>102.000000</td>\n",
       "      <td>96.000000</td>\n",
       "      <td>8.000000</td>\n",
       "      <td>88.000000</td>\n",
       "      <td>66.300000</td>\n",
       "      <td>559.900000</td>\n",
       "      <td>245.900000</td>\n",
       "      <td>318.900000</td>\n",
       "      <td>336.600000</td>\n",
       "      <td>150.000000</td>\n",
       "      <td>3.000000</td>\n",
       "      <td>1.000000</td>\n",
       "    </tr>\n",
       "    <tr>\n",
       "      <th>75%</th>\n",
       "      <td>2010.500000</td>\n",
       "      <td>109.000000</td>\n",
       "      <td>98.500000</td>\n",
       "      <td>8.300000</td>\n",
       "      <td>92.000000</td>\n",
       "      <td>76.450000</td>\n",
       "      <td>704.200000</td>\n",
       "      <td>280.750000</td>\n",
       "      <td>361.165000</td>\n",
       "      <td>427.800000</td>\n",
       "      <td>182.500000</td>\n",
       "      <td>4.750000</td>\n",
       "      <td>1.000000</td>\n",
       "    </tr>\n",
       "    <tr>\n",
       "      <th>max</th>\n",
       "      <td>2015.000000</td>\n",
       "      <td>116.000000</td>\n",
       "      <td>100.000000</td>\n",
       "      <td>8.800000</td>\n",
       "      <td>96.000000</td>\n",
       "      <td>110.310000</td>\n",
       "      <td>1063.200000</td>\n",
       "      <td>415.000000</td>\n",
       "      <td>457.460000</td>\n",
       "      <td>648.200000</td>\n",
       "      <td>200.000000</td>\n",
       "      <td>6.000000</td>\n",
       "      <td>2.000000</td>\n",
       "    </tr>\n",
       "  </tbody>\n",
       "</table>\n",
       "</div>"
      ],
      "text/plain": [
       "       Year Released      Length    RT Score  IMDB Score  Metacritic Score  \\\n",
       "count      15.000000   15.000000   15.000000   15.000000         15.000000   \n",
       "mean     2006.066667  101.533333   89.333333    7.846667         82.800000   \n",
       "std         5.933761    9.927355   16.451950    0.655599         12.119642   \n",
       "min      1995.000000   81.000000   39.000000    6.300000         57.000000   \n",
       "25%      2002.000000   96.000000   85.000000    7.300000         75.000000   \n",
       "50%      2007.000000  102.000000   96.000000    8.000000         88.000000   \n",
       "75%      2010.500000  109.000000   98.500000    8.300000         92.000000   \n",
       "max      2015.000000  116.000000  100.000000    8.800000         96.000000   \n",
       "\n",
       "       Opening Weekend  Worldwide Gross  Domestic Gross  \\\n",
       "count        15.000000        15.000000       15.000000   \n",
       "mean         67.990667       612.486667      258.506667   \n",
       "std          23.270468       190.193934       66.518284   \n",
       "min          29.140000       362.000000      162.800000   \n",
       "25%          58.755000       503.150000      215.100000   \n",
       "50%          66.300000       559.900000      245.900000   \n",
       "75%          76.450000       704.200000      280.750000   \n",
       "max         110.310000      1063.200000      415.000000   \n",
       "\n",
       "       Adjusted Domestic Gross  International Gross  Production Budget  \\\n",
       "count                15.000000            15.000000          15.000000   \n",
       "mean                318.448000           353.986667         133.400000   \n",
       "std                  73.321064           135.061615          59.696614   \n",
       "min                 194.430000           170.200000          30.000000   \n",
       "25%                 261.350000           256.050000          91.000000   \n",
       "50%                 318.900000           336.600000         150.000000   \n",
       "75%                 361.165000           427.800000         182.500000   \n",
       "max                 457.460000           648.200000         200.000000   \n",
       "\n",
       "       Oscars Nominated  Oscars Won  \n",
       "count         14.000000   14.000000  \n",
       "mean           2.857143    0.785714  \n",
       "std            2.032700    0.801784  \n",
       "min            0.000000    0.000000  \n",
       "25%            1.000000    0.000000  \n",
       "50%            3.000000    1.000000  \n",
       "75%            4.750000    1.000000  \n",
       "max            6.000000    2.000000  "
      ]
     },
     "execution_count": 6,
     "metadata": {},
     "output_type": "execute_result"
    }
   ],
   "source": [
    "pixar_movies.describe()"
   ]
  },
  {
   "cell_type": "markdown",
   "metadata": {},
   "source": [
    "The count value returns number of non-NaN data in the column. Because there is 15 movies in this dataset, most count values are 15 except Oscar Nominated and Oscar Won. We can use pixar_movies[\"Oscars Nominated\"] to access the column Oscars Nominated.<br/>\n",
    "Each column of Dataframe is a pandas.Series object.\n",
    "<a href=\"http://pandas.pydata.org/pandas-docs/stable/generated/pandas.Series.html\">Here</a> is its documentation."
   ]
  },
  {
   "cell_type": "code",
   "execution_count": 7,
   "metadata": {
    "collapsed": false,
    "scrolled": true
   },
   "outputs": [
    {
     "data": {
      "text/plain": [
       "0     3.0\n",
       "1     1.0\n",
       "2     1.0\n",
       "3     3.0\n",
       "4     4.0\n",
       "5     4.0\n",
       "6     2.0\n",
       "7     5.0\n",
       "8     6.0\n",
       "9     5.0\n",
       "10    5.0\n",
       "11    0.0\n",
       "12    1.0\n",
       "13    0.0\n",
       "14    NaN\n",
       "Name: Oscars Nominated, dtype: float64"
      ]
     },
     "execution_count": 7,
     "metadata": {},
     "output_type": "execute_result"
    }
   ],
   "source": [
    "pixar_movies[\"Oscars Nominated\"]"
   ]
  },
  {
   "cell_type": "markdown",
   "metadata": {},
   "source": [
    "To see which movie with NaN in Oscar Nominated column, assuming the dataset is large and we don't want to find it by eye, we can use pixar_movies[pixar_movies[\"Oscars Nominated\"].isnull()]. pandas.Series.isnull() returns a Series with boolean variable (True/False) in it. There are many ways to select rows of a Dataframe object, and one of them is using boolean array. For more detail about selecting data see <a href=\"http://pandas.pydata.org/pandas-docs/stable/indexing.html\">here</a>."
   ]
  },
  {
   "cell_type": "code",
   "execution_count": 8,
   "metadata": {
    "collapsed": false
   },
   "outputs": [
    {
     "data": {
      "text/html": [
       "<div>\n",
       "<table border=\"1\" class=\"dataframe\">\n",
       "  <thead>\n",
       "    <tr style=\"text-align: right;\">\n",
       "      <th></th>\n",
       "      <th>Year Released</th>\n",
       "      <th>Movie</th>\n",
       "      <th>Length</th>\n",
       "      <th>RT Score</th>\n",
       "      <th>IMDB Score</th>\n",
       "      <th>Metacritic Score</th>\n",
       "      <th>Opening Weekend</th>\n",
       "      <th>Worldwide Gross</th>\n",
       "      <th>Domestic Gross</th>\n",
       "      <th>Adjusted Domestic Gross</th>\n",
       "      <th>International Gross</th>\n",
       "      <th>Domestic %</th>\n",
       "      <th>International %</th>\n",
       "      <th>Production Budget</th>\n",
       "      <th>Oscars Nominated</th>\n",
       "      <th>Oscars Won</th>\n",
       "    </tr>\n",
       "  </thead>\n",
       "  <tbody>\n",
       "    <tr>\n",
       "      <th>14</th>\n",
       "      <td>2015</td>\n",
       "      <td>Inside Out</td>\n",
       "      <td>102</td>\n",
       "      <td>98</td>\n",
       "      <td>8.8</td>\n",
       "      <td>93</td>\n",
       "      <td>90.4</td>\n",
       "      <td>677.1</td>\n",
       "      <td>340.5</td>\n",
       "      <td>340.5</td>\n",
       "      <td>336.6</td>\n",
       "      <td>50.29%</td>\n",
       "      <td>49.71%</td>\n",
       "      <td>175</td>\n",
       "      <td>NaN</td>\n",
       "      <td>NaN</td>\n",
       "    </tr>\n",
       "  </tbody>\n",
       "</table>\n",
       "</div>"
      ],
      "text/plain": [
       "    Year Released       Movie  Length  RT Score  IMDB Score  Metacritic Score  \\\n",
       "14           2015  Inside Out     102        98         8.8                93   \n",
       "\n",
       "    Opening Weekend  Worldwide Gross  Domestic Gross  Adjusted Domestic Gross  \\\n",
       "14             90.4            677.1           340.5                    340.5   \n",
       "\n",
       "    International Gross Domestic % International %  Production Budget  \\\n",
       "14                336.6     50.29%          49.71%                175   \n",
       "\n",
       "    Oscars Nominated  Oscars Won  \n",
       "14               NaN         NaN  "
      ]
     },
     "execution_count": 8,
     "metadata": {},
     "output_type": "execute_result"
    }
   ],
   "source": [
    "pixar_movies[pixar_movies[\"Oscars Nominated\"].isnull()]"
   ]
  },
  {
   "cell_type": "markdown",
   "metadata": {},
   "source": [
    "Since this data was established before Oscar 2015, so Inside Out has no Oscar related data by the time."
   ]
  },
  {
   "cell_type": "markdown",
   "metadata": {},
   "source": [
    "<h4>What did I find from a quick survey?</h4>\n",
    "<ul>\n",
    "    <li>\n",
    "        There are 16 features in this dataset:\n",
    "        <ul>\n",
    "            <li> Year Released </li>\n",
    "            <li> Movie name</li>\n",
    "            <li> Length of movie (in mins) </li>\n",
    "            <li> Score on <a href=\"https://www.rottentomatoes.com/\">Rotten Tomatoes</a> (out of 100) </li>\n",
    "            <li> Score on <a href=\"http://www.imdb.com/\">IMDb</a> (out of 10) </li>\n",
    "            <li> Score on <a href=\"http://www.metacritic.com/\">Metacritic</a> (out of 100)</li>\n",
    "            <li> Opening Weekend (The weekend box office for the initial week of release) </li>\n",
    "            <li> Worldwide Gross </li>\n",
    "            <li> Domestic Gross </li>\n",
    "            <li> Adjusted Domestic Gross\n",
    "                (<a href=\"http://www.boxofficemojo.com/alltime/adjusted.htm\">Adjusted for for Ticket Price Inflation</a>)</li>\n",
    "            <li> International Gross </li>\n",
    "            <li> Domestic % </li>\n",
    "            <li> International % </li>\n",
    "            <li> Production Budget </li>\n",
    "            <li> number of Oscars Nominations (Maximum is 6) </li>\n",
    "            <li> number of Oscars Awards (Maximum is 2)</li>\n",
    "        </ul>\n",
    "    </li>\n",
    "    <li>the data of Dometic % and International % are numeric but their data types are string with a % suffixed.</li>\n",
    "    <li>Production Budget and Opening Weekend were not adjusted by inflation rates.</li>\n",
    "    <li>Inside Out has no Oscar related data.\n",
    "    \n",
    "</ul>"
   ]
  },
  {
   "cell_type": "markdown",
   "metadata": {},
   "source": [
    "### Step 4: Questions\n",
    "Before I do any modification, I would like to write down what questions this dataset might be able to answer.\n",
    "<ol>\n",
    "    <li>What is the trend of Pixar movies in scores, income gross, budget?</li>\n",
    "    <li>Which movie is most profitable?</li>\n",
    "    <li>What is the trend in the portion of domestic gross and international gross?</li>\n",
    "    <li>Is there any relation between Oscars Nominations and other features?</li>\n",
    "</ol>\n",
    "\n",
    "Some of these questions might be irrelavent, but I put it down as a record of brainstorm."
   ]
  },
  {
   "cell_type": "markdown",
   "metadata": {},
   "source": [
    "### Step 5: Data cleansing\n",
    "Before extracting any information from a dataset, I need to check the data quality. For example, if I want to plot a figure of Domestic gross percentage, I need to remove the suffix % and convert their types from string to float. I also need to get the Adjusted Opening Weekend and Adjusted Production Budget if I want to compare them between different Pixar's movies.\n",
    "<a href=\"https://en.wikipedia.org/wiki/Data_cleansing\">Here</a> is the wiki page about data cleansing."
   ]
  },
  {
   "cell_type": "markdown",
   "metadata": {},
   "source": [
    "#### Data conversion\n",
    "\n",
    "I first remove the suffix % of each string in column Domestic % by using method <a href=\"http://pandas.pydata.org/pandas-docs/stable/generated/pandas.Series.str.html#pandas.Series.str\">str</a> followed by <a href=\"http://pandas.pydata.org/pandas-docs/stable/generated/pandas.Series.str.rstrip.html\">rstrip</a>. Then I concatenated its output with method <a href\"http://pandas.pydata.org/pandas-docs/stable/generated/pandas.Series.astype.html\">astype</a> to convert string to float."
   ]
  },
  {
   "cell_type": "code",
   "execution_count": 9,
   "metadata": {
    "collapsed": false
   },
   "outputs": [],
   "source": [
    "pixar_movies[\"Domestic %\"] = pixar_movies[\"Domestic %\"].str.rstrip(\"%\").astype(float)"
   ]
  },
  {
   "cell_type": "markdown",
   "metadata": {},
   "source": [
    "I check this column to see if it really is something I want"
   ]
  },
  {
   "cell_type": "code",
   "execution_count": 10,
   "metadata": {
    "collapsed": false,
    "scrolled": true
   },
   "outputs": [
    {
     "data": {
      "text/plain": [
       "0     52.98\n",
       "1     44.80\n",
       "2     50.70\n",
       "3     48.39\n",
       "4     37.93\n",
       "5     41.40\n",
       "6     52.84\n",
       "7     33.09\n",
       "8     42.93\n",
       "9     40.07\n",
       "10    39.03\n",
       "11    34.20\n",
       "12    44.03\n",
       "13    36.11\n",
       "14    50.29\n",
       "Name: Domestic %, dtype: float64"
      ]
     },
     "execution_count": 10,
     "metadata": {},
     "output_type": "execute_result"
    }
   ],
   "source": [
    "pixar_movies[\"Domestic %\"]"
   ]
  },
  {
   "cell_type": "markdown",
   "metadata": {},
   "source": [
    "And do the same strip and conversion to column International %"
   ]
  },
  {
   "cell_type": "code",
   "execution_count": 11,
   "metadata": {
    "collapsed": true
   },
   "outputs": [],
   "source": [
    "pixar_movies[\"International %\"] = pixar_movies[\"International %\"].str.rstrip(\"%\").astype(float)"
   ]
  },
  {
   "cell_type": "markdown",
   "metadata": {},
   "source": [
    "And again, checking the whole dataset is what I expect."
   ]
  },
  {
   "cell_type": "code",
   "execution_count": 12,
   "metadata": {
    "collapsed": false,
    "scrolled": false
   },
   "outputs": [
    {
     "data": {
      "text/html": [
       "<div>\n",
       "<table border=\"1\" class=\"dataframe\">\n",
       "  <thead>\n",
       "    <tr style=\"text-align: right;\">\n",
       "      <th></th>\n",
       "      <th>Year Released</th>\n",
       "      <th>Movie</th>\n",
       "      <th>Length</th>\n",
       "      <th>RT Score</th>\n",
       "      <th>IMDB Score</th>\n",
       "      <th>Metacritic Score</th>\n",
       "      <th>Opening Weekend</th>\n",
       "      <th>Worldwide Gross</th>\n",
       "      <th>Domestic Gross</th>\n",
       "      <th>Adjusted Domestic Gross</th>\n",
       "      <th>International Gross</th>\n",
       "      <th>Domestic %</th>\n",
       "      <th>International %</th>\n",
       "      <th>Production Budget</th>\n",
       "      <th>Oscars Nominated</th>\n",
       "      <th>Oscars Won</th>\n",
       "    </tr>\n",
       "  </thead>\n",
       "  <tbody>\n",
       "    <tr>\n",
       "      <th>0</th>\n",
       "      <td>1995</td>\n",
       "      <td>Toy Story</td>\n",
       "      <td>81</td>\n",
       "      <td>100</td>\n",
       "      <td>8.3</td>\n",
       "      <td>92</td>\n",
       "      <td>29.14</td>\n",
       "      <td>362.0</td>\n",
       "      <td>191.8</td>\n",
       "      <td>356.21</td>\n",
       "      <td>170.2</td>\n",
       "      <td>52.98</td>\n",
       "      <td>47.02</td>\n",
       "      <td>30</td>\n",
       "      <td>3.0</td>\n",
       "      <td>0.0</td>\n",
       "    </tr>\n",
       "    <tr>\n",
       "      <th>1</th>\n",
       "      <td>1998</td>\n",
       "      <td>A Bug's Life</td>\n",
       "      <td>96</td>\n",
       "      <td>92</td>\n",
       "      <td>7.2</td>\n",
       "      <td>77</td>\n",
       "      <td>33.26</td>\n",
       "      <td>363.4</td>\n",
       "      <td>162.8</td>\n",
       "      <td>277.18</td>\n",
       "      <td>200.6</td>\n",
       "      <td>44.80</td>\n",
       "      <td>55.20</td>\n",
       "      <td>45</td>\n",
       "      <td>1.0</td>\n",
       "      <td>0.0</td>\n",
       "    </tr>\n",
       "    <tr>\n",
       "      <th>2</th>\n",
       "      <td>1999</td>\n",
       "      <td>Toy Story 2</td>\n",
       "      <td>92</td>\n",
       "      <td>100</td>\n",
       "      <td>7.9</td>\n",
       "      <td>88</td>\n",
       "      <td>57.39</td>\n",
       "      <td>485.0</td>\n",
       "      <td>245.9</td>\n",
       "      <td>388.43</td>\n",
       "      <td>239.2</td>\n",
       "      <td>50.70</td>\n",
       "      <td>49.32</td>\n",
       "      <td>90</td>\n",
       "      <td>1.0</td>\n",
       "      <td>0.0</td>\n",
       "    </tr>\n",
       "    <tr>\n",
       "      <th>3</th>\n",
       "      <td>2001</td>\n",
       "      <td>Monsters, Inc.</td>\n",
       "      <td>90</td>\n",
       "      <td>96</td>\n",
       "      <td>8.1</td>\n",
       "      <td>78</td>\n",
       "      <td>62.58</td>\n",
       "      <td>528.8</td>\n",
       "      <td>255.9</td>\n",
       "      <td>366.12</td>\n",
       "      <td>272.9</td>\n",
       "      <td>48.39</td>\n",
       "      <td>51.61</td>\n",
       "      <td>115</td>\n",
       "      <td>3.0</td>\n",
       "      <td>1.0</td>\n",
       "    </tr>\n",
       "    <tr>\n",
       "      <th>4</th>\n",
       "      <td>2003</td>\n",
       "      <td>Finding Nemo</td>\n",
       "      <td>104</td>\n",
       "      <td>99</td>\n",
       "      <td>8.2</td>\n",
       "      <td>90</td>\n",
       "      <td>70.25</td>\n",
       "      <td>895.6</td>\n",
       "      <td>339.7</td>\n",
       "      <td>457.46</td>\n",
       "      <td>555.9</td>\n",
       "      <td>37.93</td>\n",
       "      <td>62.07</td>\n",
       "      <td>94</td>\n",
       "      <td>4.0</td>\n",
       "      <td>1.0</td>\n",
       "    </tr>\n",
       "    <tr>\n",
       "      <th>5</th>\n",
       "      <td>2004</td>\n",
       "      <td>The Incredibles</td>\n",
       "      <td>115</td>\n",
       "      <td>97</td>\n",
       "      <td>8.0</td>\n",
       "      <td>90</td>\n",
       "      <td>70.47</td>\n",
       "      <td>631.4</td>\n",
       "      <td>261.4</td>\n",
       "      <td>341.28</td>\n",
       "      <td>370.0</td>\n",
       "      <td>41.40</td>\n",
       "      <td>58.60</td>\n",
       "      <td>92</td>\n",
       "      <td>4.0</td>\n",
       "      <td>2.0</td>\n",
       "    </tr>\n",
       "    <tr>\n",
       "      <th>6</th>\n",
       "      <td>2006</td>\n",
       "      <td>Cars</td>\n",
       "      <td>116</td>\n",
       "      <td>74</td>\n",
       "      <td>7.2</td>\n",
       "      <td>73</td>\n",
       "      <td>60.12</td>\n",
       "      <td>462.0</td>\n",
       "      <td>244.1</td>\n",
       "      <td>302.59</td>\n",
       "      <td>217.9</td>\n",
       "      <td>52.84</td>\n",
       "      <td>47.16</td>\n",
       "      <td>70</td>\n",
       "      <td>2.0</td>\n",
       "      <td>0.0</td>\n",
       "    </tr>\n",
       "    <tr>\n",
       "      <th>7</th>\n",
       "      <td>2007</td>\n",
       "      <td>Ratatouille</td>\n",
       "      <td>111</td>\n",
       "      <td>96</td>\n",
       "      <td>8.0</td>\n",
       "      <td>96</td>\n",
       "      <td>47.00</td>\n",
       "      <td>623.7</td>\n",
       "      <td>206.4</td>\n",
       "      <td>243.65</td>\n",
       "      <td>417.3</td>\n",
       "      <td>33.09</td>\n",
       "      <td>66.91</td>\n",
       "      <td>150</td>\n",
       "      <td>5.0</td>\n",
       "      <td>1.0</td>\n",
       "    </tr>\n",
       "    <tr>\n",
       "      <th>8</th>\n",
       "      <td>2008</td>\n",
       "      <td>WALL-E</td>\n",
       "      <td>97</td>\n",
       "      <td>96</td>\n",
       "      <td>8.4</td>\n",
       "      <td>94</td>\n",
       "      <td>63.10</td>\n",
       "      <td>521.3</td>\n",
       "      <td>223.8</td>\n",
       "      <td>253.11</td>\n",
       "      <td>297.5</td>\n",
       "      <td>42.93</td>\n",
       "      <td>57.07</td>\n",
       "      <td>180</td>\n",
       "      <td>6.0</td>\n",
       "      <td>1.0</td>\n",
       "    </tr>\n",
       "    <tr>\n",
       "      <th>9</th>\n",
       "      <td>2009</td>\n",
       "      <td>Up</td>\n",
       "      <td>96</td>\n",
       "      <td>98</td>\n",
       "      <td>8.3</td>\n",
       "      <td>88</td>\n",
       "      <td>68.11</td>\n",
       "      <td>731.3</td>\n",
       "      <td>293.0</td>\n",
       "      <td>318.90</td>\n",
       "      <td>438.3</td>\n",
       "      <td>40.07</td>\n",
       "      <td>59.93</td>\n",
       "      <td>175</td>\n",
       "      <td>5.0</td>\n",
       "      <td>2.0</td>\n",
       "    </tr>\n",
       "    <tr>\n",
       "      <th>10</th>\n",
       "      <td>2010</td>\n",
       "      <td>Toy Story 3</td>\n",
       "      <td>103</td>\n",
       "      <td>99</td>\n",
       "      <td>8.4</td>\n",
       "      <td>92</td>\n",
       "      <td>110.31</td>\n",
       "      <td>1063.2</td>\n",
       "      <td>415.0</td>\n",
       "      <td>423.88</td>\n",
       "      <td>648.2</td>\n",
       "      <td>39.03</td>\n",
       "      <td>60.97</td>\n",
       "      <td>200</td>\n",
       "      <td>5.0</td>\n",
       "      <td>2.0</td>\n",
       "    </tr>\n",
       "    <tr>\n",
       "      <th>11</th>\n",
       "      <td>2011</td>\n",
       "      <td>Cars 2</td>\n",
       "      <td>113</td>\n",
       "      <td>39</td>\n",
       "      <td>6.3</td>\n",
       "      <td>57</td>\n",
       "      <td>109.00</td>\n",
       "      <td>559.9</td>\n",
       "      <td>191.5</td>\n",
       "      <td>194.43</td>\n",
       "      <td>368.4</td>\n",
       "      <td>34.20</td>\n",
       "      <td>65.80</td>\n",
       "      <td>200</td>\n",
       "      <td>0.0</td>\n",
       "      <td>0.0</td>\n",
       "    </tr>\n",
       "    <tr>\n",
       "      <th>12</th>\n",
       "      <td>2012</td>\n",
       "      <td>Brave</td>\n",
       "      <td>100</td>\n",
       "      <td>78</td>\n",
       "      <td>7.2</td>\n",
       "      <td>69</td>\n",
       "      <td>66.30</td>\n",
       "      <td>539.0</td>\n",
       "      <td>237.3</td>\n",
       "      <td>243.39</td>\n",
       "      <td>301.7</td>\n",
       "      <td>44.03</td>\n",
       "      <td>55.97</td>\n",
       "      <td>185</td>\n",
       "      <td>1.0</td>\n",
       "      <td>1.0</td>\n",
       "    </tr>\n",
       "    <tr>\n",
       "      <th>13</th>\n",
       "      <td>2013</td>\n",
       "      <td>Monsters University</td>\n",
       "      <td>107</td>\n",
       "      <td>78</td>\n",
       "      <td>7.4</td>\n",
       "      <td>65</td>\n",
       "      <td>82.43</td>\n",
       "      <td>743.6</td>\n",
       "      <td>268.5</td>\n",
       "      <td>269.59</td>\n",
       "      <td>475.1</td>\n",
       "      <td>36.11</td>\n",
       "      <td>63.89</td>\n",
       "      <td>200</td>\n",
       "      <td>0.0</td>\n",
       "      <td>0.0</td>\n",
       "    </tr>\n",
       "    <tr>\n",
       "      <th>14</th>\n",
       "      <td>2015</td>\n",
       "      <td>Inside Out</td>\n",
       "      <td>102</td>\n",
       "      <td>98</td>\n",
       "      <td>8.8</td>\n",
       "      <td>93</td>\n",
       "      <td>90.40</td>\n",
       "      <td>677.1</td>\n",
       "      <td>340.5</td>\n",
       "      <td>340.50</td>\n",
       "      <td>336.6</td>\n",
       "      <td>50.29</td>\n",
       "      <td>49.71</td>\n",
       "      <td>175</td>\n",
       "      <td>NaN</td>\n",
       "      <td>NaN</td>\n",
       "    </tr>\n",
       "  </tbody>\n",
       "</table>\n",
       "</div>"
      ],
      "text/plain": [
       "    Year Released                Movie  Length  RT Score  IMDB Score  \\\n",
       "0            1995            Toy Story      81       100         8.3   \n",
       "1            1998         A Bug's Life      96        92         7.2   \n",
       "2            1999          Toy Story 2      92       100         7.9   \n",
       "3            2001       Monsters, Inc.      90        96         8.1   \n",
       "4            2003         Finding Nemo     104        99         8.2   \n",
       "5            2004      The Incredibles     115        97         8.0   \n",
       "6            2006                 Cars     116        74         7.2   \n",
       "7            2007          Ratatouille     111        96         8.0   \n",
       "8            2008               WALL-E      97        96         8.4   \n",
       "9            2009                   Up      96        98         8.3   \n",
       "10           2010          Toy Story 3     103        99         8.4   \n",
       "11           2011               Cars 2     113        39         6.3   \n",
       "12           2012                Brave     100        78         7.2   \n",
       "13           2013  Monsters University     107        78         7.4   \n",
       "14           2015           Inside Out     102        98         8.8   \n",
       "\n",
       "    Metacritic Score  Opening Weekend  Worldwide Gross  Domestic Gross  \\\n",
       "0                 92            29.14            362.0           191.8   \n",
       "1                 77            33.26            363.4           162.8   \n",
       "2                 88            57.39            485.0           245.9   \n",
       "3                 78            62.58            528.8           255.9   \n",
       "4                 90            70.25            895.6           339.7   \n",
       "5                 90            70.47            631.4           261.4   \n",
       "6                 73            60.12            462.0           244.1   \n",
       "7                 96            47.00            623.7           206.4   \n",
       "8                 94            63.10            521.3           223.8   \n",
       "9                 88            68.11            731.3           293.0   \n",
       "10                92           110.31           1063.2           415.0   \n",
       "11                57           109.00            559.9           191.5   \n",
       "12                69            66.30            539.0           237.3   \n",
       "13                65            82.43            743.6           268.5   \n",
       "14                93            90.40            677.1           340.5   \n",
       "\n",
       "    Adjusted Domestic Gross  International Gross  Domestic %  International %  \\\n",
       "0                    356.21                170.2       52.98            47.02   \n",
       "1                    277.18                200.6       44.80            55.20   \n",
       "2                    388.43                239.2       50.70            49.32   \n",
       "3                    366.12                272.9       48.39            51.61   \n",
       "4                    457.46                555.9       37.93            62.07   \n",
       "5                    341.28                370.0       41.40            58.60   \n",
       "6                    302.59                217.9       52.84            47.16   \n",
       "7                    243.65                417.3       33.09            66.91   \n",
       "8                    253.11                297.5       42.93            57.07   \n",
       "9                    318.90                438.3       40.07            59.93   \n",
       "10                   423.88                648.2       39.03            60.97   \n",
       "11                   194.43                368.4       34.20            65.80   \n",
       "12                   243.39                301.7       44.03            55.97   \n",
       "13                   269.59                475.1       36.11            63.89   \n",
       "14                   340.50                336.6       50.29            49.71   \n",
       "\n",
       "    Production Budget  Oscars Nominated  Oscars Won  \n",
       "0                  30               3.0         0.0  \n",
       "1                  45               1.0         0.0  \n",
       "2                  90               1.0         0.0  \n",
       "3                 115               3.0         1.0  \n",
       "4                  94               4.0         1.0  \n",
       "5                  92               4.0         2.0  \n",
       "6                  70               2.0         0.0  \n",
       "7                 150               5.0         1.0  \n",
       "8                 180               6.0         1.0  \n",
       "9                 175               5.0         2.0  \n",
       "10                200               5.0         2.0  \n",
       "11                200               0.0         0.0  \n",
       "12                185               1.0         1.0  \n",
       "13                200               0.0         0.0  \n",
       "14                175               NaN         NaN  "
      ]
     },
     "execution_count": 12,
     "metadata": {},
     "output_type": "execute_result"
    }
   ],
   "source": [
    "pixar_movies"
   ]
  },
  {
   "cell_type": "markdown",
   "metadata": {},
   "source": [
    "#### Number rescaling\n",
    "As I plan to consider the average score pixar movies have among the three review website, I have to make sure that they have same weight when I average them. Clearly, IMDB uses a score out of 10 which will have a smaller weight than the other two if I apply it directly. I have to rescale it to a score out of 100. Since pandas can compute in a vectorized way, I can simply get the rescale score by simply muliply the column with 10."
   ]
  },
  {
   "cell_type": "code",
   "execution_count": 13,
   "metadata": {
    "collapsed": false
   },
   "outputs": [],
   "source": [
    "pixar_movies[\"IMDB Score\"] = pixar_movies[\"IMDB Score\"] * 10"
   ]
  },
  {
   "cell_type": "markdown",
   "metadata": {},
   "source": [
    "#### NaN checking\n",
    "Assume that the data set is very big and I would like to see if there is any missing data in it. One way to find it out is using <a href=\"http://pandas.pydata.org/pandas-docs/stable/generated/pandas.DataFrame.isnull.html\">isnull()</a> and followed by <a href=\"http://pandas.pydata.org/pandas-docs/stable/generated/pandas.Series.any.html\">any(axis=1)</a>. I set the parameter axis=1 to let it check row by row instead of column by column. By doing so, pixar_movies[pixar_movies.isnull().any(axis=1)] will return rows containg NaN values. In our particular case, only Inside Out has NaN value due to Oscars Awards.<br/>"
   ]
  },
  {
   "cell_type": "code",
   "execution_count": 14,
   "metadata": {
    "collapsed": false
   },
   "outputs": [
    {
     "data": {
      "text/html": [
       "<div>\n",
       "<table border=\"1\" class=\"dataframe\">\n",
       "  <thead>\n",
       "    <tr style=\"text-align: right;\">\n",
       "      <th></th>\n",
       "      <th>Year Released</th>\n",
       "      <th>Movie</th>\n",
       "      <th>Length</th>\n",
       "      <th>RT Score</th>\n",
       "      <th>IMDB Score</th>\n",
       "      <th>Metacritic Score</th>\n",
       "      <th>Opening Weekend</th>\n",
       "      <th>Worldwide Gross</th>\n",
       "      <th>Domestic Gross</th>\n",
       "      <th>Adjusted Domestic Gross</th>\n",
       "      <th>International Gross</th>\n",
       "      <th>Domestic %</th>\n",
       "      <th>International %</th>\n",
       "      <th>Production Budget</th>\n",
       "      <th>Oscars Nominated</th>\n",
       "      <th>Oscars Won</th>\n",
       "    </tr>\n",
       "  </thead>\n",
       "  <tbody>\n",
       "    <tr>\n",
       "      <th>14</th>\n",
       "      <td>2015</td>\n",
       "      <td>Inside Out</td>\n",
       "      <td>102</td>\n",
       "      <td>98</td>\n",
       "      <td>88.0</td>\n",
       "      <td>93</td>\n",
       "      <td>90.4</td>\n",
       "      <td>677.1</td>\n",
       "      <td>340.5</td>\n",
       "      <td>340.5</td>\n",
       "      <td>336.6</td>\n",
       "      <td>50.29</td>\n",
       "      <td>49.71</td>\n",
       "      <td>175</td>\n",
       "      <td>NaN</td>\n",
       "      <td>NaN</td>\n",
       "    </tr>\n",
       "  </tbody>\n",
       "</table>\n",
       "</div>"
      ],
      "text/plain": [
       "    Year Released       Movie  Length  RT Score  IMDB Score  Metacritic Score  \\\n",
       "14           2015  Inside Out     102        98        88.0                93   \n",
       "\n",
       "    Opening Weekend  Worldwide Gross  Domestic Gross  Adjusted Domestic Gross  \\\n",
       "14             90.4            677.1           340.5                    340.5   \n",
       "\n",
       "    International Gross  Domestic %  International %  Production Budget  \\\n",
       "14                336.6       50.29            49.71                175   \n",
       "\n",
       "    Oscars Nominated  Oscars Won  \n",
       "14               NaN         NaN  "
      ]
     },
     "execution_count": 14,
     "metadata": {},
     "output_type": "execute_result"
    }
   ],
   "source": [
    "pixar_movies[pixar_movies.isnull().any(axis=1)]"
   ]
  },
  {
   "cell_type": "markdown",
   "metadata": {},
   "source": [
    "Since these NaNs won't affect most of analyses I plan to do, I would keep them in mind and leave them in the dataset."
   ]
  },
  {
   "cell_type": "markdown",
   "metadata": {},
   "source": [
    "#### Consistency checking\n",
    "Another thing I can check is the consistency of data. That is checking if the data is reasonable in their values, relations, or other relevant properties. For instance I can go back to see if the max and min of Score columns are really between 0 and 100. This might be checked when we do a quick survey by describe() method.\n",
    "Here I want to check if the sum of Domestic % and Internation % are 100%. "
   ]
  },
  {
   "cell_type": "code",
   "execution_count": 15,
   "metadata": {
    "collapsed": false,
    "scrolled": true
   },
   "outputs": [
    {
     "data": {
      "text/html": [
       "<div>\n",
       "<table border=\"1\" class=\"dataframe\">\n",
       "  <thead>\n",
       "    <tr style=\"text-align: right;\">\n",
       "      <th></th>\n",
       "      <th>Year Released</th>\n",
       "      <th>Movie</th>\n",
       "      <th>Length</th>\n",
       "      <th>RT Score</th>\n",
       "      <th>IMDB Score</th>\n",
       "      <th>Metacritic Score</th>\n",
       "      <th>Opening Weekend</th>\n",
       "      <th>Worldwide Gross</th>\n",
       "      <th>Domestic Gross</th>\n",
       "      <th>Adjusted Domestic Gross</th>\n",
       "      <th>International Gross</th>\n",
       "      <th>Domestic %</th>\n",
       "      <th>International %</th>\n",
       "      <th>Production Budget</th>\n",
       "      <th>Oscars Nominated</th>\n",
       "      <th>Oscars Won</th>\n",
       "    </tr>\n",
       "  </thead>\n",
       "  <tbody>\n",
       "    <tr>\n",
       "      <th>2</th>\n",
       "      <td>1999</td>\n",
       "      <td>Toy Story 2</td>\n",
       "      <td>92</td>\n",
       "      <td>100</td>\n",
       "      <td>79.0</td>\n",
       "      <td>88</td>\n",
       "      <td>57.39</td>\n",
       "      <td>485.0</td>\n",
       "      <td>245.9</td>\n",
       "      <td>388.43</td>\n",
       "      <td>239.2</td>\n",
       "      <td>50.7</td>\n",
       "      <td>49.32</td>\n",
       "      <td>90</td>\n",
       "      <td>1.0</td>\n",
       "      <td>0.0</td>\n",
       "    </tr>\n",
       "  </tbody>\n",
       "</table>\n",
       "</div>"
      ],
      "text/plain": [
       "   Year Released        Movie  Length  RT Score  IMDB Score  Metacritic Score  \\\n",
       "2           1999  Toy Story 2      92       100        79.0                88   \n",
       "\n",
       "   Opening Weekend  Worldwide Gross  Domestic Gross  Adjusted Domestic Gross  \\\n",
       "2            57.39            485.0           245.9                   388.43   \n",
       "\n",
       "   International Gross  Domestic %  International %  Production Budget  \\\n",
       "2                239.2        50.7            49.32                 90   \n",
       "\n",
       "   Oscars Nominated  Oscars Won  \n",
       "2               1.0         0.0  "
      ]
     },
     "execution_count": 15,
     "metadata": {},
     "output_type": "execute_result"
    }
   ],
   "source": [
    "pixar_movies[(pixar_movies[\"Domestic %\"] + pixar_movies[\"International %\"] != 100)]"
   ]
  },
  {
   "cell_type": "markdown",
   "metadata": {},
   "source": [
    "It turns out that there the sum for Toy Story 2 is 100.02%. Since the portions are derived from columns International Gross and Domestic Gross, and the sum of these two should equal Worldwide Gross, let me check if these three columns consistent.\n",
    "\n",
    "Since they are float, the value might not be exactly the same, so I set a value eps as a accuracy cutoff here. I consider two floats are equal if there difference is smaller than eps."
   ]
  },
  {
   "cell_type": "code",
   "execution_count": 16,
   "metadata": {
    "collapsed": false,
    "scrolled": false
   },
   "outputs": [
    {
     "data": {
      "text/html": [
       "<div>\n",
       "<table border=\"1\" class=\"dataframe\">\n",
       "  <thead>\n",
       "    <tr style=\"text-align: right;\">\n",
       "      <th></th>\n",
       "      <th>Year Released</th>\n",
       "      <th>Movie</th>\n",
       "      <th>Length</th>\n",
       "      <th>RT Score</th>\n",
       "      <th>IMDB Score</th>\n",
       "      <th>Metacritic Score</th>\n",
       "      <th>Opening Weekend</th>\n",
       "      <th>Worldwide Gross</th>\n",
       "      <th>Domestic Gross</th>\n",
       "      <th>Adjusted Domestic Gross</th>\n",
       "      <th>International Gross</th>\n",
       "      <th>Domestic %</th>\n",
       "      <th>International %</th>\n",
       "      <th>Production Budget</th>\n",
       "      <th>Oscars Nominated</th>\n",
       "      <th>Oscars Won</th>\n",
       "    </tr>\n",
       "  </thead>\n",
       "  <tbody>\n",
       "    <tr>\n",
       "      <th>2</th>\n",
       "      <td>1999</td>\n",
       "      <td>Toy Story 2</td>\n",
       "      <td>92</td>\n",
       "      <td>100</td>\n",
       "      <td>79.0</td>\n",
       "      <td>88</td>\n",
       "      <td>57.39</td>\n",
       "      <td>485.0</td>\n",
       "      <td>245.9</td>\n",
       "      <td>388.43</td>\n",
       "      <td>239.2</td>\n",
       "      <td>50.7</td>\n",
       "      <td>49.32</td>\n",
       "      <td>90</td>\n",
       "      <td>1.0</td>\n",
       "      <td>0.0</td>\n",
       "    </tr>\n",
       "  </tbody>\n",
       "</table>\n",
       "</div>"
      ],
      "text/plain": [
       "   Year Released        Movie  Length  RT Score  IMDB Score  Metacritic Score  \\\n",
       "2           1999  Toy Story 2      92       100        79.0                88   \n",
       "\n",
       "   Opening Weekend  Worldwide Gross  Domestic Gross  Adjusted Domestic Gross  \\\n",
       "2            57.39            485.0           245.9                   388.43   \n",
       "\n",
       "   International Gross  Domestic %  International %  Production Budget  \\\n",
       "2                239.2        50.7            49.32                 90   \n",
       "\n",
       "   Oscars Nominated  Oscars Won  \n",
       "2               1.0         0.0  "
      ]
     },
     "execution_count": 16,
     "metadata": {},
     "output_type": "execute_result"
    }
   ],
   "source": [
    "eps = 1e-12\n",
    "cond = ((pixar_movies[\"Domestic Gross\"] + pixar_movies[\"International Gross\"]) - \n",
    "        pixar_movies[\"Worldwide Gross\"]).abs() > eps\n",
    "inconsis_Gross = pixar_movies[cond]\n",
    "inconsis_Gross"
   ]
  },
  {
   "cell_type": "markdown",
   "metadata": {},
   "source": [
    "Let me check how much they differ. I expect it to be small. Since the sum for percentage only differ 0.02%, and that should be the case if these two inconsistencies are from the same source."
   ]
  },
  {
   "cell_type": "code",
   "execution_count": 17,
   "metadata": {
    "collapsed": false
   },
   "outputs": [
    {
     "data": {
      "text/plain": [
       "2    0.1\n",
       "dtype: float64"
      ]
     },
     "execution_count": 17,
     "metadata": {},
     "output_type": "execute_result"
    }
   ],
   "source": [
    "((inconsis_Gross[\"International Gross\"] + inconsis_Gross[\"Domestic Gross\"]) - inconsis_Gross[\"Worldwide Gross\"]).abs()"
   ]
  },
  {
   "cell_type": "markdown",
   "metadata": {},
   "source": [
    "The difference is just 0.1 which could be a round-off error. Let me see if the inconsistencies are related."
   ]
  },
  {
   "cell_type": "code",
   "execution_count": 18,
   "metadata": {
    "collapsed": false,
    "scrolled": true
   },
   "outputs": [
    {
     "name": "stdout",
     "output_type": "stream",
     "text": [
      "[ 49.31958763] [ 50.70103093] [ 100.02061856]\n"
     ]
    }
   ],
   "source": [
    "int_percen = (inconsis_Gross[\"International Gross\"] / inconsis_Gross[\"Worldwide Gross\"]) * 100\n",
    "dom_percen = (inconsis_Gross[\"Domestic Gross\"] / inconsis_Gross[\"Worldwide Gross\"]) * 100\n",
    "print int_percen.values, dom_percen.values, (int_percen+dom_percen).values"
   ]
  },
  {
   "cell_type": "markdown",
   "metadata": {},
   "source": [
    "Again, the sum of two percentage values is 100.02%, so it should be the same reason for these discrepency and it should be a round-off error. Since it is comparably small. It is not worth to me for this moment to spend much time looking up the correct value. I just need to remember there is a round-off error in the data of Toy Story 2."
   ]
  },
  {
   "cell_type": "markdown",
   "metadata": {},
   "source": [
    "### Step 6: Web Scraping\n",
    "Since I want to compare the production budget and Opening Weekend between movies, I have to adjust them with the inflation rate. The inflation rate data I found is from <a href=\"http://www.usinflationcalculator.com/inflation/historical-inflation-rates/\">here</a>. \n",
    "In this step I use the packages Requests and beautifulsoup4 we import before to extract the data out of the website and put them into a pandas DataFrame."
   ]
  },
  {
   "cell_type": "markdown",
   "metadata": {},
   "source": [
    "I first get the webpage source code by requests. The return value reponse.content is a string of html"
   ]
  },
  {
   "cell_type": "code",
   "execution_count": 19,
   "metadata": {
    "collapsed": false,
    "scrolled": false
   },
   "outputs": [
    {
     "name": "stdout",
     "output_type": "stream",
     "text": [
      "<type 'str'>\n"
     ]
    },
    {
     "data": {
      "text/plain": [
       "['<!DOCTYPE html>',\n",
       " '<!--[if IE 7]>',\n",
       " '<html class=\"ie ie7\" lang=\"en-US\">',\n",
       " '<![endif]-->',\n",
       " '<!--[if IE 8]>',\n",
       " '<html class=\"ie ie8\" lang=\"en-US\">',\n",
       " '<![endif]-->',\n",
       " '<!--[if !(IE 7) | !(IE 8) ]><!-->',\n",
       " '<html lang=\"en-US\">',\n",
       " '<!--<![endif]-->']"
      ]
     },
     "execution_count": 19,
     "metadata": {},
     "output_type": "execute_result"
    }
   ],
   "source": [
    "url = 'http://www.usinflationcalculator.com/inflation/historical-inflation-rates/'\n",
    "response = requests.get(url)\n",
    "html = response.content\n",
    "\n",
    "print type(html)\n",
    "html.split('\\n')[0:10]"
   ]
  },
  {
   "cell_type": "markdown",
   "metadata": {},
   "source": [
    "Pass the html string to bs4.BeautifulSoup"
   ]
  },
  {
   "cell_type": "code",
   "execution_count": 20,
   "metadata": {
    "collapsed": false
   },
   "outputs": [],
   "source": [
    "soup = bs4.BeautifulSoup(html)"
   ]
  },
  {
   "cell_type": "markdown",
   "metadata": {},
   "source": [
    "The data I'm looking for is stored in table and it has a html tag tbody. Basic knowledge of HTML is necessary to scrape data from webpages. <a href=\"https://www.youtube.com/playlist?list=PL41lfR-6DnOruqMacTfff1zrEcqtmm7Fv\">Here</a> is a series tutorial for the most basic HTML. <a href=\"http://www.w3schools.com/html/\">W3School</a> has more comprehensive information.<br/>\n",
    "So I pass 'tbody' to method find_all to find all tbody tags and its content."
   ]
  },
  {
   "cell_type": "code",
   "execution_count": 21,
   "metadata": {
    "collapsed": false
   },
   "outputs": [],
   "source": [
    "table = soup.find_all('tbody')"
   ]
  },
  {
   "cell_type": "markdown",
   "metadata": {},
   "source": [
    "The return value of find_all is a instance of list,"
   ]
  },
  {
   "cell_type": "code",
   "execution_count": 22,
   "metadata": {
    "collapsed": false
   },
   "outputs": [
    {
     "data": {
      "text/plain": [
       "True"
      ]
     },
     "execution_count": 22,
     "metadata": {},
     "output_type": "execute_result"
    }
   ],
   "source": [
    "isinstance(table, list)"
   ]
  },
  {
   "cell_type": "markdown",
   "metadata": {},
   "source": [
    "so we can find the number of result in table by len() to make sure there is only one tbody tag, "
   ]
  },
  {
   "cell_type": "code",
   "execution_count": 23,
   "metadata": {
    "collapsed": false
   },
   "outputs": [
    {
     "data": {
      "text/plain": [
       "1"
      ]
     },
     "execution_count": 23,
     "metadata": {},
     "output_type": "execute_result"
    }
   ],
   "source": [
    "len(table)"
   ]
  },
  {
   "cell_type": "markdown",
   "metadata": {},
   "source": [
    "Now I make ```table``` refering to tag object instead of the result list.<br/>"
   ]
  },
  {
   "cell_type": "code",
   "execution_count": 24,
   "metadata": {
    "collapsed": false
   },
   "outputs": [],
   "source": [
    "table = table[0]"
   ]
  },
  {
   "cell_type": "markdown",
   "metadata": {},
   "source": [
    "The cell below puts the table into a pandas dataframe by following steps.\n",
    "<ol>\n",
    "    <li>Put rows of table into list</li>\n",
    "    <li>Extract the header from the first row</li>\n",
    "    <li>Extract the data from the rest of rows</li>\n",
    "    <li>Create a dataframe object</li>\n",
    "</ol>\n",
    "Note that before using the string extract from the tag object, I need to parse it to unicode such that the string won't carry the reference of the complex tree around and waste memory. See the <a href=\"https://www.crummy.com/software/BeautifulSoup/bs4/doc/#navigablestring\">documentation</a> for detail."
   ]
  },
  {
   "cell_type": "code",
   "execution_count": 25,
   "metadata": {
    "collapsed": false
   },
   "outputs": [],
   "source": [
    "rows = []\n",
    "for row in table.findAll('tr'):\n",
    "    rows.append(row)\n",
    "\n",
    "header = [unicode(obj.string) for obj in rows[0] if obj.string!='\\n']\n",
    "\n",
    "data = list()\n",
    "for row in rows[1:]:\n",
    "    datum = [unicode(obj.string) for obj in row if obj.string!='\\n']\n",
    "    data.append(datum)\n",
    "\n",
    "inflation_rates = pd.DataFrame(data, columns=header)"
   ]
  },
  {
   "cell_type": "code",
   "execution_count": 26,
   "metadata": {
    "collapsed": false,
    "scrolled": true
   },
   "outputs": [
    {
     "data": {
      "text/html": [
       "<div>\n",
       "<table border=\"1\" class=\"dataframe\">\n",
       "  <thead>\n",
       "    <tr style=\"text-align: right;\">\n",
       "      <th></th>\n",
       "      <th>Year</th>\n",
       "      <th>Jan</th>\n",
       "      <th>Feb</th>\n",
       "      <th>Mar</th>\n",
       "      <th>Apr</th>\n",
       "      <th>May</th>\n",
       "      <th>Jun</th>\n",
       "      <th>Jul</th>\n",
       "      <th>Aug</th>\n",
       "      <th>Sep</th>\n",
       "      <th>Oct</th>\n",
       "      <th>Nov</th>\n",
       "      <th>Dec</th>\n",
       "      <th>Ave</th>\n",
       "    </tr>\n",
       "  </thead>\n",
       "  <tbody>\n",
       "    <tr>\n",
       "      <th>0</th>\n",
       "      <td>1914</td>\n",
       "      <td>2.0</td>\n",
       "      <td>1.0</td>\n",
       "      <td>1.0</td>\n",
       "      <td>0.0</td>\n",
       "      <td>2.1</td>\n",
       "      <td>1.0</td>\n",
       "      <td>1.0</td>\n",
       "      <td>3.0</td>\n",
       "      <td>2.0</td>\n",
       "      <td>1.0</td>\n",
       "      <td>1.0</td>\n",
       "      <td>1.0</td>\n",
       "      <td>1.0</td>\n",
       "    </tr>\n",
       "    <tr>\n",
       "      <th>1</th>\n",
       "      <td>1915</td>\n",
       "      <td>1.0</td>\n",
       "      <td>1.0</td>\n",
       "      <td>0.0</td>\n",
       "      <td>2.0</td>\n",
       "      <td>2.0</td>\n",
       "      <td>2.0</td>\n",
       "      <td>1.0</td>\n",
       "      <td>-1.0</td>\n",
       "      <td>-1.0</td>\n",
       "      <td>1.0</td>\n",
       "      <td>1.0</td>\n",
       "      <td>2.0</td>\n",
       "      <td>1.0</td>\n",
       "    </tr>\n",
       "    <tr>\n",
       "      <th>2</th>\n",
       "      <td>1916</td>\n",
       "      <td>3.0</td>\n",
       "      <td>4.0</td>\n",
       "      <td>6.1</td>\n",
       "      <td>6.0</td>\n",
       "      <td>5.9</td>\n",
       "      <td>6.9</td>\n",
       "      <td>6.9</td>\n",
       "      <td>7.9</td>\n",
       "      <td>9.9</td>\n",
       "      <td>10.8</td>\n",
       "      <td>11.7</td>\n",
       "      <td>12.6</td>\n",
       "      <td>7.9</td>\n",
       "    </tr>\n",
       "    <tr>\n",
       "      <th>3</th>\n",
       "      <td>1917</td>\n",
       "      <td>12.5</td>\n",
       "      <td>15.4</td>\n",
       "      <td>14.3</td>\n",
       "      <td>18.9</td>\n",
       "      <td>19.6</td>\n",
       "      <td>20.4</td>\n",
       "      <td>18.5</td>\n",
       "      <td>19.3</td>\n",
       "      <td>19.8</td>\n",
       "      <td>19.5</td>\n",
       "      <td>17.4</td>\n",
       "      <td>18.1</td>\n",
       "      <td>17.4</td>\n",
       "    </tr>\n",
       "    <tr>\n",
       "      <th>4</th>\n",
       "      <td>1918</td>\n",
       "      <td>19.7</td>\n",
       "      <td>17.5</td>\n",
       "      <td>16.7</td>\n",
       "      <td>12.7</td>\n",
       "      <td>13.3</td>\n",
       "      <td>13.1</td>\n",
       "      <td>18.0</td>\n",
       "      <td>18.5</td>\n",
       "      <td>18.0</td>\n",
       "      <td>18.5</td>\n",
       "      <td>20.7</td>\n",
       "      <td>20.4</td>\n",
       "      <td>18.0</td>\n",
       "    </tr>\n",
       "    <tr>\n",
       "      <th>5</th>\n",
       "      <td>1919</td>\n",
       "      <td>17.9</td>\n",
       "      <td>14.9</td>\n",
       "      <td>17.1</td>\n",
       "      <td>17.6</td>\n",
       "      <td>16.6</td>\n",
       "      <td>15.0</td>\n",
       "      <td>15.2</td>\n",
       "      <td>14.9</td>\n",
       "      <td>13.4</td>\n",
       "      <td>13.1</td>\n",
       "      <td>13.5</td>\n",
       "      <td>14.5</td>\n",
       "      <td>14.6</td>\n",
       "    </tr>\n",
       "    <tr>\n",
       "      <th>6</th>\n",
       "      <td>1920</td>\n",
       "      <td>17.0</td>\n",
       "      <td>20.4</td>\n",
       "      <td>20.1</td>\n",
       "      <td>21.6</td>\n",
       "      <td>21.9</td>\n",
       "      <td>23.7</td>\n",
       "      <td>19.5</td>\n",
       "      <td>14.7</td>\n",
       "      <td>12.4</td>\n",
       "      <td>9.9</td>\n",
       "      <td>7.0</td>\n",
       "      <td>2.6</td>\n",
       "      <td>15.6</td>\n",
       "    </tr>\n",
       "    <tr>\n",
       "      <th>7</th>\n",
       "      <td>1921</td>\n",
       "      <td>-1.6</td>\n",
       "      <td>-5.6</td>\n",
       "      <td>-7.1</td>\n",
       "      <td>-10.8</td>\n",
       "      <td>-14.1</td>\n",
       "      <td>-15.8</td>\n",
       "      <td>-14.9</td>\n",
       "      <td>-12.8</td>\n",
       "      <td>-12.5</td>\n",
       "      <td>-12.1</td>\n",
       "      <td>-12.1</td>\n",
       "      <td>-10.8</td>\n",
       "      <td>-10.5</td>\n",
       "    </tr>\n",
       "    <tr>\n",
       "      <th>8</th>\n",
       "      <td>1922</td>\n",
       "      <td>-11.1</td>\n",
       "      <td>-8.2</td>\n",
       "      <td>-8.7</td>\n",
       "      <td>-7.7</td>\n",
       "      <td>-5.6</td>\n",
       "      <td>-5.1</td>\n",
       "      <td>-5.1</td>\n",
       "      <td>-6.2</td>\n",
       "      <td>-5.1</td>\n",
       "      <td>-4.6</td>\n",
       "      <td>-3.4</td>\n",
       "      <td>-2.3</td>\n",
       "      <td>-6.1</td>\n",
       "    </tr>\n",
       "    <tr>\n",
       "      <th>9</th>\n",
       "      <td>1923</td>\n",
       "      <td>-0.6</td>\n",
       "      <td>-0.6</td>\n",
       "      <td>0.6</td>\n",
       "      <td>1.2</td>\n",
       "      <td>1.2</td>\n",
       "      <td>1.8</td>\n",
       "      <td>2.4</td>\n",
       "      <td>3.0</td>\n",
       "      <td>3.6</td>\n",
       "      <td>3.6</td>\n",
       "      <td>3.0</td>\n",
       "      <td>2.4</td>\n",
       "      <td>1.8</td>\n",
       "    </tr>\n",
       "  </tbody>\n",
       "</table>\n",
       "</div>"
      ],
      "text/plain": [
       "   Year    Jan   Feb   Mar    Apr    May    Jun    Jul    Aug    Sep    Oct  \\\n",
       "0  1914    2.0   1.0   1.0    0.0    2.1    1.0    1.0    3.0    2.0    1.0   \n",
       "1  1915    1.0   1.0   0.0    2.0    2.0    2.0    1.0   -1.0   -1.0    1.0   \n",
       "2  1916    3.0   4.0   6.1    6.0    5.9    6.9    6.9    7.9    9.9   10.8   \n",
       "3  1917   12.5  15.4  14.3   18.9   19.6   20.4   18.5   19.3   19.8   19.5   \n",
       "4  1918   19.7  17.5  16.7   12.7   13.3   13.1   18.0   18.5   18.0   18.5   \n",
       "5  1919   17.9  14.9  17.1   17.6   16.6   15.0   15.2   14.9   13.4   13.1   \n",
       "6  1920   17.0  20.4  20.1   21.6   21.9   23.7   19.5   14.7   12.4    9.9   \n",
       "7  1921   -1.6  -5.6  -7.1  -10.8  -14.1  -15.8  -14.9  -12.8  -12.5  -12.1   \n",
       "8  1922  -11.1  -8.2  -8.7   -7.7   -5.6   -5.1   -5.1   -6.2   -5.1   -4.6   \n",
       "9  1923   -0.6  -0.6   0.6    1.2    1.2    1.8    2.4    3.0    3.6    3.6   \n",
       "\n",
       "     Nov    Dec    Ave  \n",
       "0    1.0    1.0    1.0  \n",
       "1    1.0    2.0    1.0  \n",
       "2   11.7   12.6    7.9  \n",
       "3   17.4   18.1   17.4  \n",
       "4   20.7   20.4   18.0  \n",
       "5   13.5   14.5   14.6  \n",
       "6    7.0    2.6   15.6  \n",
       "7  -12.1  -10.8  -10.5  \n",
       "8   -3.4   -2.3   -6.1  \n",
       "9    3.0    2.4    1.8  "
      ]
     },
     "execution_count": 26,
     "metadata": {},
     "output_type": "execute_result"
    }
   ],
   "source": [
    "inflation_rates.head(10)"
   ]
  },
  {
   "cell_type": "markdown",
   "metadata": {},
   "source": [
    "Since the data in ```inflation_rates``` are still in string format, I use ```DataFrame.apply()``` to change every column from string to float, where the parameter ```errors='coerce'``` will replace any non-numeric data into ```NaN```. See <a href=\"http://pandas.pydata.org/pandas-docs/version/0.17.0/generated/pandas.to_numeric.html\">```to_numeric```<a>."
   ]
  },
  {
   "cell_type": "code",
   "execution_count": 27,
   "metadata": {
    "collapsed": false
   },
   "outputs": [
    {
     "data": {
      "text/plain": [
       "Year      int64\n",
       "Jan     float64\n",
       "Feb     float64\n",
       "Mar     float64\n",
       "Apr     float64\n",
       "May     float64\n",
       "Jun     float64\n",
       "Jul     float64\n",
       "Aug     float64\n",
       "Sep     float64\n",
       "Oct     float64\n",
       "Nov     float64\n",
       "Dec     float64\n",
       "Ave     float64\n",
       "dtype: object"
      ]
     },
     "execution_count": 27,
     "metadata": {},
     "output_type": "execute_result"
    }
   ],
   "source": [
    "inflation_rates = inflation_rates.apply(pd.to_numeric, errors='coerce')\n",
    "inflation_rates.dtypes"
   ]
  },
  {
   "cell_type": "markdown",
   "metadata": {},
   "source": [
    "As I did in data cleansing step on pixar movie data, I have to check if there is any null value (though it seems stupid in this case while you can already foresee from the webpage). And only the last row, year 2016, contains ```NaN```, and it won't affect my computation for data before 2015."
   ]
  },
  {
   "cell_type": "code",
   "execution_count": 28,
   "metadata": {
    "collapsed": false
   },
   "outputs": [
    {
     "data": {
      "text/html": [
       "<div>\n",
       "<table border=\"1\" class=\"dataframe\">\n",
       "  <thead>\n",
       "    <tr style=\"text-align: right;\">\n",
       "      <th></th>\n",
       "      <th>Year</th>\n",
       "      <th>Jan</th>\n",
       "      <th>Feb</th>\n",
       "      <th>Mar</th>\n",
       "      <th>Apr</th>\n",
       "      <th>May</th>\n",
       "      <th>Jun</th>\n",
       "      <th>Jul</th>\n",
       "      <th>Aug</th>\n",
       "      <th>Sep</th>\n",
       "      <th>Oct</th>\n",
       "      <th>Nov</th>\n",
       "      <th>Dec</th>\n",
       "      <th>Ave</th>\n",
       "    </tr>\n",
       "  </thead>\n",
       "  <tbody>\n",
       "    <tr>\n",
       "      <th>102</th>\n",
       "      <td>2016</td>\n",
       "      <td>1.4</td>\n",
       "      <td>1.0</td>\n",
       "      <td>0.9</td>\n",
       "      <td>1.1</td>\n",
       "      <td>1.0</td>\n",
       "      <td>1.0</td>\n",
       "      <td>0.8</td>\n",
       "      <td>NaN</td>\n",
       "      <td>NaN</td>\n",
       "      <td>NaN</td>\n",
       "      <td>NaN</td>\n",
       "      <td>NaN</td>\n",
       "      <td>NaN</td>\n",
       "    </tr>\n",
       "  </tbody>\n",
       "</table>\n",
       "</div>"
      ],
      "text/plain": [
       "     Year  Jan  Feb  Mar  Apr  May  Jun  Jul  Aug  Sep  Oct  Nov  Dec  Ave\n",
       "102  2016  1.4  1.0  0.9  1.1  1.0  1.0  0.8  NaN  NaN  NaN  NaN  NaN  NaN"
      ]
     },
     "execution_count": 28,
     "metadata": {},
     "output_type": "execute_result"
    }
   ],
   "source": [
    "row_any_null = inflation_rates.isnull().any(axis=1)\n",
    "inflation_rates[row_any_null]"
   ]
  },
  {
   "cell_type": "markdown",
   "metadata": {},
   "source": [
    "I only need to keep the ```Year``` and ```Ave``` columns for annual inflation adjustment."
   ]
  },
  {
   "cell_type": "code",
   "execution_count": 29,
   "metadata": {
    "collapsed": false
   },
   "outputs": [],
   "source": [
    "inflation_rates = inflation_rates[['Year', 'Ave']]"
   ]
  },
  {
   "cell_type": "markdown",
   "metadata": {},
   "source": [
    "### Step 7 Adjust production budget and opening weekend\n",
    "The inflation rate $r_t$ is computed by\n",
    "\n",
    "$$r_t = \\frac{C_t - C_{t-1}}{C_{t-1}} \\times 100\\%,$$\n",
    "\n",
    "where $C_t$ is the Comsumer Price Index (CPI) in the year $t$.\n",
    "So my rough adjustment would follow\n",
    "\n",
    "$$C_{t+1} = a_t C_{t},$$\n",
    "\n",
    "where $a_t = [1+(r_{t+1} / 100\\%)]$ is the adjust rate in year $t$."
   ]
  },
  {
   "cell_type": "code",
   "execution_count": 30,
   "metadata": {
    "collapsed": true
   },
   "outputs": [],
   "source": [
    "adjust_rate = pd.DataFrame(index = list(inflation_rates[\"Year\"]), \n",
    "                           columns=['Adj_rate'], \n",
    "                           data=list(1 + (inflation_rates['Ave'] / 100).shift(-1)))"
   ]
  },
  {
   "cell_type": "code",
   "execution_count": 31,
   "metadata": {
    "collapsed": false,
    "scrolled": true
   },
   "outputs": [
    {
     "data": {
      "text/html": [
       "<div>\n",
       "<table border=\"1\" class=\"dataframe\">\n",
       "  <thead>\n",
       "    <tr style=\"text-align: right;\">\n",
       "      <th></th>\n",
       "      <th>Adj_rate</th>\n",
       "    </tr>\n",
       "  </thead>\n",
       "  <tbody>\n",
       "    <tr>\n",
       "      <th>1914</th>\n",
       "      <td>1.010</td>\n",
       "    </tr>\n",
       "    <tr>\n",
       "      <th>1915</th>\n",
       "      <td>1.079</td>\n",
       "    </tr>\n",
       "    <tr>\n",
       "      <th>1916</th>\n",
       "      <td>1.174</td>\n",
       "    </tr>\n",
       "    <tr>\n",
       "      <th>1917</th>\n",
       "      <td>1.180</td>\n",
       "    </tr>\n",
       "    <tr>\n",
       "      <th>1918</th>\n",
       "      <td>1.146</td>\n",
       "    </tr>\n",
       "  </tbody>\n",
       "</table>\n",
       "</div>"
      ],
      "text/plain": [
       "      Adj_rate\n",
       "1914     1.010\n",
       "1915     1.079\n",
       "1916     1.174\n",
       "1917     1.180\n",
       "1918     1.146"
      ]
     },
     "execution_count": 31,
     "metadata": {},
     "output_type": "execute_result"
    }
   ],
   "source": [
    "adjust_rate.head()"
   ]
  },
  {
   "cell_type": "markdown",
   "metadata": {},
   "source": [
    "To compute the inflation of production budget, I have to update the price change year by year and make the budget of every movie released in different year updated to the same year, 2015. To do so, I define a function ```inflation_adjust```"
   ]
  },
  {
   "cell_type": "code",
   "execution_count": 32,
   "metadata": {
    "collapsed": true
   },
   "outputs": [],
   "source": [
    "def inflation_adjust(row, adj_col):\n",
    "    year = row['Year Released']\n",
    "    if year <= 2014:\n",
    "        adjust_amount = row[adj_col] * adjust_rate.loc[year:2014].prod()\n",
    "    else:\n",
    "        adjust_amount = row[adj_col]\n",
    "    return adjust_amount"
   ]
  },
  {
   "cell_type": "markdown",
   "metadata": {},
   "source": [
    "and ```apply``` the function onto each row by passing the parameter ```axis=1```."
   ]
  },
  {
   "cell_type": "code",
   "execution_count": 33,
   "metadata": {
    "collapsed": false
   },
   "outputs": [],
   "source": [
    "pixar_movies['Adjusted Production Budget'] = pixar_movies.apply(inflation_adjust, axis=1, adj_col = 'Production Budget')"
   ]
  },
  {
   "cell_type": "code",
   "execution_count": 34,
   "metadata": {
    "collapsed": false
   },
   "outputs": [
    {
     "data": {
      "text/html": [
       "<div>\n",
       "<table border=\"1\" class=\"dataframe\">\n",
       "  <thead>\n",
       "    <tr style=\"text-align: right;\">\n",
       "      <th></th>\n",
       "      <th>Movie</th>\n",
       "      <th>Production Budget</th>\n",
       "      <th>Adjusted Production Budget</th>\n",
       "    </tr>\n",
       "  </thead>\n",
       "  <tbody>\n",
       "    <tr>\n",
       "      <th>0</th>\n",
       "      <td>Toy Story</td>\n",
       "      <td>30</td>\n",
       "      <td>46.674016</td>\n",
       "    </tr>\n",
       "    <tr>\n",
       "      <th>1</th>\n",
       "      <td>A Bug's Life</td>\n",
       "      <td>45</td>\n",
       "      <td>65.397307</td>\n",
       "    </tr>\n",
       "    <tr>\n",
       "      <th>2</th>\n",
       "      <td>Toy Story 2</td>\n",
       "      <td>90</td>\n",
       "      <td>127.979075</td>\n",
       "    </tr>\n",
       "    <tr>\n",
       "      <th>3</th>\n",
       "      <td>Monsters, Inc.</td>\n",
       "      <td>115</td>\n",
       "      <td>153.844028</td>\n",
       "    </tr>\n",
       "    <tr>\n",
       "      <th>4</th>\n",
       "      <td>Finding Nemo</td>\n",
       "      <td>94</td>\n",
       "      <td>120.987726</td>\n",
       "    </tr>\n",
       "  </tbody>\n",
       "</table>\n",
       "</div>"
      ],
      "text/plain": [
       "            Movie  Production Budget  Adjusted Production Budget\n",
       "0       Toy Story                 30                   46.674016\n",
       "1    A Bug's Life                 45                   65.397307\n",
       "2     Toy Story 2                 90                  127.979075\n",
       "3  Monsters, Inc.                115                  153.844028\n",
       "4    Finding Nemo                 94                  120.987726"
      ]
     },
     "execution_count": 34,
     "metadata": {},
     "output_type": "execute_result"
    }
   ],
   "source": [
    "pixar_movies[[\"Movie\", 'Production Budget', 'Adjusted Production Budget']].head()"
   ]
  },
  {
   "cell_type": "markdown",
   "metadata": {},
   "source": [
    "Now let's adjust opening weekend. Here I decide not to adjust it by inflation rate I scraped. Instead, to make it consistent with other gross adjustment, I follow the way boxoffice used <a href=\"http://www.boxofficemojo.com/about/adjuster.htm\">here</a>. \n",
    "\n",
    "Actually I can make things even easier by finding the adjust rate they used from columns Domestic Gross and Adjusted Domestic Gross."
   ]
  },
  {
   "cell_type": "code",
   "execution_count": 35,
   "metadata": {
    "collapsed": false
   },
   "outputs": [],
   "source": [
    "opwkend_adj_rate = pixar_movies[\"Adjusted Domestic Gross\"] / pixar_movies[\"Domestic Gross\"]\n",
    "pixar_movies[\"Adjusted Opening Weekend\"] = opwkend_adj_rate * pixar_movies[\"Opening Weekend\"]"
   ]
  },
  {
   "cell_type": "code",
   "execution_count": 36,
   "metadata": {
    "collapsed": false
   },
   "outputs": [
    {
     "data": {
      "text/html": [
       "<div>\n",
       "<table border=\"1\" class=\"dataframe\">\n",
       "  <thead>\n",
       "    <tr style=\"text-align: right;\">\n",
       "      <th></th>\n",
       "      <th>Opening Weekend</th>\n",
       "      <th>Adjusted Opening Weekend</th>\n",
       "    </tr>\n",
       "  </thead>\n",
       "  <tbody>\n",
       "    <tr>\n",
       "      <th>0</th>\n",
       "      <td>29.14</td>\n",
       "      <td>54.118662</td>\n",
       "    </tr>\n",
       "    <tr>\n",
       "      <th>1</th>\n",
       "      <td>33.26</td>\n",
       "      <td>56.627806</td>\n",
       "    </tr>\n",
       "    <tr>\n",
       "      <th>2</th>\n",
       "      <td>57.39</td>\n",
       "      <td>90.654728</td>\n",
       "    </tr>\n",
       "    <tr>\n",
       "      <th>3</th>\n",
       "      <td>62.58</td>\n",
       "      <td>89.534152</td>\n",
       "    </tr>\n",
       "    <tr>\n",
       "      <th>4</th>\n",
       "      <td>70.25</td>\n",
       "      <td>94.602782</td>\n",
       "    </tr>\n",
       "  </tbody>\n",
       "</table>\n",
       "</div>"
      ],
      "text/plain": [
       "   Opening Weekend  Adjusted Opening Weekend\n",
       "0            29.14                 54.118662\n",
       "1            33.26                 56.627806\n",
       "2            57.39                 90.654728\n",
       "3            62.58                 89.534152\n",
       "4            70.25                 94.602782"
      ]
     },
     "execution_count": 36,
     "metadata": {},
     "output_type": "execute_result"
    }
   ],
   "source": [
    "pixar_movies[[\"Opening Weekend\", \"Adjusted Opening Weekend\"]].head()"
   ]
  },
  {
   "cell_type": "markdown",
   "metadata": {},
   "source": [
    "The last thing I want to manipulate is the columns' names. It is clear that the amount of Worldwide Gross cannot be just 362 dollars. So I want to make it more clear by adding the currency and unit to the column names, so that people can immidiately understand the data without checking the website again."
   ]
  },
  {
   "cell_type": "code",
   "execution_count": 37,
   "metadata": {
    "collapsed": false
   },
   "outputs": [],
   "source": [
    "pixar_movies.rename(columns={'Length':'Length (mins)',\n",
    "                             'RT Score':'RT Score (max 100)', \n",
    "                             'IMDB Score':'Rescaled IMDB Score (max 100)', \n",
    "                             'Metacritic Score': 'Metacritic Score (max 100)'}, inplace=True)"
   ]
  },
  {
   "cell_type": "code",
   "execution_count": 38,
   "metadata": {
    "collapsed": false
   },
   "outputs": [
    {
     "name": "stdout",
     "output_type": "stream",
     "text": [
      "0 Year Released\n",
      "1 Movie\n",
      "2 Length (mins)\n",
      "3 RT Score (max 100)\n",
      "4 Rescaled IMDB Score (max 100)\n",
      "5 Metacritic Score (max 100)\n",
      "6 Opening Weekend\n",
      "7 Worldwide Gross\n",
      "8 Domestic Gross\n",
      "9 Adjusted Domestic Gross\n",
      "10 International Gross\n",
      "11 Domestic %\n",
      "12 International %\n",
      "13 Production Budget\n",
      "14 Oscars Nominated\n",
      "15 Oscars Won\n",
      "16 Adjusted Production Budget\n",
      "17 Adjusted Opening Weekend\n"
     ]
    }
   ],
   "source": [
    "i = 0\n",
    "for col in pixar_movies.columns:\n",
    "    print i, col\n",
    "    i += 1"
   ]
  },
  {
   "cell_type": "code",
   "execution_count": 39,
   "metadata": {
    "collapsed": false
   },
   "outputs": [],
   "source": [
    "add_str = ' (millions, USD)'\n",
    "col_ind = [6, 7, 8, 9, 10, 13, 16, 17]\n",
    "for col in pixar_movies.columns[col_ind]:\n",
    "    pixar_movies.rename(columns={col:(col+add_str)}, inplace=True)"
   ]
  },
  {
   "cell_type": "code",
   "execution_count": 40,
   "metadata": {
    "collapsed": false,
    "scrolled": true
   },
   "outputs": [
    {
     "data": {
      "text/html": [
       "<div>\n",
       "<table border=\"1\" class=\"dataframe\">\n",
       "  <thead>\n",
       "    <tr style=\"text-align: right;\">\n",
       "      <th></th>\n",
       "      <th>Year Released</th>\n",
       "      <th>Movie</th>\n",
       "      <th>Length (mins)</th>\n",
       "      <th>RT Score (max 100)</th>\n",
       "      <th>Rescaled IMDB Score (max 100)</th>\n",
       "      <th>Metacritic Score (max 100)</th>\n",
       "      <th>Opening Weekend (millions, USD)</th>\n",
       "      <th>Worldwide Gross (millions, USD)</th>\n",
       "      <th>Domestic Gross (millions, USD)</th>\n",
       "      <th>Adjusted Domestic Gross (millions, USD)</th>\n",
       "      <th>International Gross (millions, USD)</th>\n",
       "      <th>Domestic %</th>\n",
       "      <th>International %</th>\n",
       "      <th>Production Budget (millions, USD)</th>\n",
       "      <th>Oscars Nominated</th>\n",
       "      <th>Oscars Won</th>\n",
       "      <th>Adjusted Production Budget (millions, USD)</th>\n",
       "      <th>Adjusted Opening Weekend (millions, USD)</th>\n",
       "    </tr>\n",
       "  </thead>\n",
       "  <tbody>\n",
       "    <tr>\n",
       "      <th>0</th>\n",
       "      <td>1995</td>\n",
       "      <td>Toy Story</td>\n",
       "      <td>81</td>\n",
       "      <td>100</td>\n",
       "      <td>83.0</td>\n",
       "      <td>92</td>\n",
       "      <td>29.14</td>\n",
       "      <td>362.0</td>\n",
       "      <td>191.8</td>\n",
       "      <td>356.21</td>\n",
       "      <td>170.2</td>\n",
       "      <td>52.98</td>\n",
       "      <td>47.02</td>\n",
       "      <td>30</td>\n",
       "      <td>3.0</td>\n",
       "      <td>0.0</td>\n",
       "      <td>46.674016</td>\n",
       "      <td>54.118662</td>\n",
       "    </tr>\n",
       "    <tr>\n",
       "      <th>1</th>\n",
       "      <td>1998</td>\n",
       "      <td>A Bug's Life</td>\n",
       "      <td>96</td>\n",
       "      <td>92</td>\n",
       "      <td>72.0</td>\n",
       "      <td>77</td>\n",
       "      <td>33.26</td>\n",
       "      <td>363.4</td>\n",
       "      <td>162.8</td>\n",
       "      <td>277.18</td>\n",
       "      <td>200.6</td>\n",
       "      <td>44.80</td>\n",
       "      <td>55.20</td>\n",
       "      <td>45</td>\n",
       "      <td>1.0</td>\n",
       "      <td>0.0</td>\n",
       "      <td>65.397307</td>\n",
       "      <td>56.627806</td>\n",
       "    </tr>\n",
       "    <tr>\n",
       "      <th>2</th>\n",
       "      <td>1999</td>\n",
       "      <td>Toy Story 2</td>\n",
       "      <td>92</td>\n",
       "      <td>100</td>\n",
       "      <td>79.0</td>\n",
       "      <td>88</td>\n",
       "      <td>57.39</td>\n",
       "      <td>485.0</td>\n",
       "      <td>245.9</td>\n",
       "      <td>388.43</td>\n",
       "      <td>239.2</td>\n",
       "      <td>50.70</td>\n",
       "      <td>49.32</td>\n",
       "      <td>90</td>\n",
       "      <td>1.0</td>\n",
       "      <td>0.0</td>\n",
       "      <td>127.979075</td>\n",
       "      <td>90.654728</td>\n",
       "    </tr>\n",
       "    <tr>\n",
       "      <th>3</th>\n",
       "      <td>2001</td>\n",
       "      <td>Monsters, Inc.</td>\n",
       "      <td>90</td>\n",
       "      <td>96</td>\n",
       "      <td>81.0</td>\n",
       "      <td>78</td>\n",
       "      <td>62.58</td>\n",
       "      <td>528.8</td>\n",
       "      <td>255.9</td>\n",
       "      <td>366.12</td>\n",
       "      <td>272.9</td>\n",
       "      <td>48.39</td>\n",
       "      <td>51.61</td>\n",
       "      <td>115</td>\n",
       "      <td>3.0</td>\n",
       "      <td>1.0</td>\n",
       "      <td>153.844028</td>\n",
       "      <td>89.534152</td>\n",
       "    </tr>\n",
       "    <tr>\n",
       "      <th>4</th>\n",
       "      <td>2003</td>\n",
       "      <td>Finding Nemo</td>\n",
       "      <td>104</td>\n",
       "      <td>99</td>\n",
       "      <td>82.0</td>\n",
       "      <td>90</td>\n",
       "      <td>70.25</td>\n",
       "      <td>895.6</td>\n",
       "      <td>339.7</td>\n",
       "      <td>457.46</td>\n",
       "      <td>555.9</td>\n",
       "      <td>37.93</td>\n",
       "      <td>62.07</td>\n",
       "      <td>94</td>\n",
       "      <td>4.0</td>\n",
       "      <td>1.0</td>\n",
       "      <td>120.987726</td>\n",
       "      <td>94.602782</td>\n",
       "    </tr>\n",
       "  </tbody>\n",
       "</table>\n",
       "</div>"
      ],
      "text/plain": [
       "   Year Released           Movie  Length (mins)  RT Score (max 100)  \\\n",
       "0           1995       Toy Story             81                 100   \n",
       "1           1998    A Bug's Life             96                  92   \n",
       "2           1999     Toy Story 2             92                 100   \n",
       "3           2001  Monsters, Inc.             90                  96   \n",
       "4           2003    Finding Nemo            104                  99   \n",
       "\n",
       "   Rescaled IMDB Score (max 100)  Metacritic Score (max 100)  \\\n",
       "0                           83.0                          92   \n",
       "1                           72.0                          77   \n",
       "2                           79.0                          88   \n",
       "3                           81.0                          78   \n",
       "4                           82.0                          90   \n",
       "\n",
       "   Opening Weekend (millions, USD)  Worldwide Gross (millions, USD)  \\\n",
       "0                            29.14                            362.0   \n",
       "1                            33.26                            363.4   \n",
       "2                            57.39                            485.0   \n",
       "3                            62.58                            528.8   \n",
       "4                            70.25                            895.6   \n",
       "\n",
       "   Domestic Gross (millions, USD)  Adjusted Domestic Gross (millions, USD)  \\\n",
       "0                           191.8                                   356.21   \n",
       "1                           162.8                                   277.18   \n",
       "2                           245.9                                   388.43   \n",
       "3                           255.9                                   366.12   \n",
       "4                           339.7                                   457.46   \n",
       "\n",
       "   International Gross (millions, USD)  Domestic %  International %  \\\n",
       "0                                170.2       52.98            47.02   \n",
       "1                                200.6       44.80            55.20   \n",
       "2                                239.2       50.70            49.32   \n",
       "3                                272.9       48.39            51.61   \n",
       "4                                555.9       37.93            62.07   \n",
       "\n",
       "   Production Budget (millions, USD)  Oscars Nominated  Oscars Won  \\\n",
       "0                                 30               3.0         0.0   \n",
       "1                                 45               1.0         0.0   \n",
       "2                                 90               1.0         0.0   \n",
       "3                                115               3.0         1.0   \n",
       "4                                 94               4.0         1.0   \n",
       "\n",
       "   Adjusted Production Budget (millions, USD)  \\\n",
       "0                                   46.674016   \n",
       "1                                   65.397307   \n",
       "2                                  127.979075   \n",
       "3                                  153.844028   \n",
       "4                                  120.987726   \n",
       "\n",
       "   Adjusted Opening Weekend (millions, USD)  \n",
       "0                                 54.118662  \n",
       "1                                 56.627806  \n",
       "2                                 90.654728  \n",
       "3                                 89.534152  \n",
       "4                                 94.602782  "
      ]
     },
     "execution_count": 40,
     "metadata": {},
     "output_type": "execute_result"
    }
   ],
   "source": [
    "pixar_movies.head()"
   ]
  },
  {
   "cell_type": "markdown",
   "metadata": {},
   "source": [
    "### Step 8 Data visualisation\n",
    "<p>\n",
    "    With matplotlib, seaborn and pandas in hand, we now have several ways for the same visualisation.\n",
    "    The basic method (and is also the foundation of all these methods) is matplotlib. Even matplotlib itself has many commands to reach the same goal.\n",
    "</p>"
   ]
  },
  {
   "cell_type": "markdown",
   "metadata": {},
   "source": [
    "To draw a line chart"
   ]
  },
  {
   "cell_type": "code",
   "execution_count": 41,
   "metadata": {
    "collapsed": false,
    "scrolled": true
   },
   "outputs": [
    {
     "data": {
      "image/png": "[encoded data removed]",
      "text/plain": [
       "<matplotlib.figure.Figure at 0xa3ed7b8>"
      ]
     },
     "metadata": {},
     "output_type": "display_data"
    }
   ],
   "source": [
    "fig = plt.figure()\n",
    "ax = plt.axes()\n",
    "ax.plot(pixar_movies[\"Year Released\"], pixar_movies[\"Length (mins)\"],'o-')\n",
    "plt.show()"
   ]
  },
  {
   "cell_type": "markdown",
   "metadata": {},
   "source": [
    "To draw more than one line and add legend:"
   ]
  },
  {
   "cell_type": "code",
   "execution_count": 42,
   "metadata": {
    "collapsed": false
   },
   "outputs": [
    {
     "data": {
      "image/png": "[encoded data removed]",
      "text/plain": [
       "<matplotlib.figure.Figure at 0xa466b00>"
      ]
     },
     "metadata": {},
     "output_type": "display_data"
    }
   ],
   "source": [
    "fig = plt.figure()\n",
    "ax = plt.axes()\n",
    "ax.plot(pixar_movies[\"Year Released\"], pixar_movies[\"Metacritic Score (max 100)\"],'o-', label=\"Metacritic Score (max 100)\")\n",
    "ax.plot(pixar_movies[\"Year Released\"], pixar_movies[\"RT Score (max 100)\"], label=\"RT Score (max 100)\")\n",
    "\n",
    "ax.set_xlabel(\"Year released\")\n",
    "ax.set_ylabel(\"Score\")\n",
    "\n",
    "plt.legend(loc=\"lower left\")\n",
    "plt.show()"
   ]
  },
  {
   "cell_type": "markdown",
   "metadata": {},
   "source": [
    "plots side by side"
   ]
  },
  {
   "cell_type": "code",
   "execution_count": 43,
   "metadata": {
    "collapsed": false
   },
   "outputs": [
    {
     "data": {
      "image/png": "[encoded data removed]",
      "text/plain": [
       "<matplotlib.figure.Figure at 0xa5a0ac8>"
      ]
     },
     "metadata": {},
     "output_type": "display_data"
    }
   ],
   "source": [
    "fig, axs = plt.subplots(2, 2)\n",
    "axs[0][0].plot(pixar_movies[\"Year Released\"], pixar_movies[\"RT Score (max 100)\"],'o-')\n",
    "axs[0][1].plot(pixar_movies[\"Year Released\"], pixar_movies[\"Metacritic Score (max 100)\"],'o-')\n",
    "axs[1][0].plot(pixar_movies[\"Year Released\"], pixar_movies[\"Rescaled IMDB Score (max 100)\"],'o-')\n",
    "\n",
    "axs[0][0].set_title(\"RT Score (max 100)\")\n",
    "axs[0][1].set_title(\"Metacritic Score (max 100)\")\n",
    "axs[1][0].set_title(\"Rescaled IMDB Score (max 100)\")\n",
    "\n",
    "plt.tight_layout()"
   ]
  },
  {
   "cell_type": "markdown",
   "metadata": {},
   "source": [
    "plot a bar chart"
   ]
  },
  {
   "cell_type": "code",
   "execution_count": 44,
   "metadata": {
    "collapsed": false,
    "scrolled": true
   },
   "outputs": [
    {
     "data": {
      "text/plain": [
       "<matplotlib.text.Text at 0xbc44630>"
      ]
     },
     "execution_count": 44,
     "metadata": {},
     "output_type": "execute_result"
    },
    {
     "data": {
      "image/png": "[encoded data removed]",
      "text/plain": [
       "<matplotlib.figure.Figure at 0xa5b7dd8>"
      ]
     },
     "metadata": {},
     "output_type": "display_data"
    }
   ],
   "source": [
    "fig, ax = plt.subplots()\n",
    "ind = np.arange(len(pixar_movies[\"Movie\"]))\n",
    "width = 0.5\n",
    "ax.bar(ind, pixar_movies[\"Worldwide Gross (millions, USD)\"], width)\n",
    "ax.set_xticks(ind + 0.5 * width)\n",
    "ax.set_xticklabels(pixar_movies[\"Movie\"].values, rotation=90)\n",
    "ax.set_ylabel(\"Worldwide Gross (millions, USD)\")"
   ]
  },
  {
   "cell_type": "code",
   "execution_count": 45,
   "metadata": {
    "collapsed": true
   },
   "outputs": [],
   "source": [
    "import seaborn as sns"
   ]
  },
  {
   "cell_type": "code",
   "execution_count": 46,
   "metadata": {
    "collapsed": false
   },
   "outputs": [
    {
     "data": {
      "image/png": "[encoded data removed]",
      "text/plain": [
       "<matplotlib.figure.Figure at 0xc61ba20>"
      ]
     },
     "metadata": {},
     "output_type": "display_data"
    }
   ],
   "source": [
    "fig = plt.figure()\n",
    "ax = plt.axes()\n",
    "ax.plot(pixar_movies[\"Year Released\"], pixar_movies[\"Metacritic Score (max 100)\"],'o-', label=\"Metacritic Score (max 100)\")\n",
    "ax.plot(pixar_movies[\"Year Released\"], pixar_movies[\"RT Score (max 100)\"], label=\"RT Score (max 100)\")\n",
    "\n",
    "ax.set_xlabel(\"Year released\")\n",
    "ax.set_ylabel(\"Score\")\n",
    "\n",
    "plt.legend(loc=\"lower left\")\n",
    "plt.show()"
   ]
  },
  {
   "cell_type": "markdown",
   "metadata": {},
   "source": [
    "plots side by side"
   ]
  },
  {
   "cell_type": "code",
   "execution_count": 50,
   "metadata": {
    "collapsed": false
   },
   "outputs": [
    {
     "data": {
      "image/png": "[encoded data removed]",
      "text/plain": [
       "<matplotlib.figure.Figure at 0xdb61048>"
      ]
     },
     "metadata": {},
     "output_type": "display_data"
    }
   ],
   "source": [
    "fig, axs = plt.subplots(2, 2)\n",
    "axs[0][0].plot(pixar_movies[\"Year Released\"], pixar_movies[\"RT Score (max 100)\"],'o-')\n",
    "axs[0][1].plot(pixar_movies[\"Year Released\"], pixar_movies[\"Metacritic Score (max 100)\"],'o-')\n",
    "axs[1][0].plot(pixar_movies[\"Year Released\"], pixar_movies[\"Rescaled IMDB Score (max 100)\"],'o-')\n",
    "\n",
    "axs[0][0].set_title(\"RT Score (max 100)\")\n",
    "axs[0][1].set_title(\"Metacritic Score (max 100)\")\n",
    "axs[1][0].set_title(\"Rescaled IMDB Score (max 100)\")\n",
    "\n",
    "plt.tight_layout()\n",
    "plt.show()"
   ]
  },
  {
   "cell_type": "markdown",
   "metadata": {},
   "source": [
    "plot a bar chart"
   ]
  },
  {
   "cell_type": "code",
   "execution_count": 49,
   "metadata": {
    "collapsed": false,
    "scrolled": true
   },
   "outputs": [
    {
     "data": {
      "image/png": "[encoded data removed]",
      "text/plain": [
       "<matplotlib.figure.Figure at 0xd3a5c18>"
      ]
     },
     "metadata": {},
     "output_type": "display_data"
    }
   ],
   "source": [
    "fig, ax = plt.subplots()\n",
    "ind = np.arange(len(pixar_movies[\"Movie\"]))\n",
    "width = 0.5\n",
    "ax.bar(ind, pixar_movies[\"Worldwide Gross (millions, USD)\"], width)\n",
    "ax.set_xticks(ind + 0.5 * width)\n",
    "ax.set_xticklabels(pixar_movies[\"Movie\"].values, rotation=90)\n",
    "ax.set_ylabel(\"Worldwide Gross (millions, USD)\")\n",
    "\n",
    "plt.show()"
   ]
  },
  {
   "cell_type": "code",
   "execution_count": null,
   "metadata": {
    "collapsed": true
   },
   "outputs": [],
   "source": [
    "ratio_inflation = pixar_movies[\"Adjusted Production Budget (millions, USD)\"] / pixar_movies[\"Production Budget (millions, USD)\"]\n",
    "ratio_ticketprice = pixar_movies[\"Adjusted Domestic Gross (millions, USD)\"] / pixar_movies[\"Domestic Gross (millions, USD)\"]"
   ]
  },
  {
   "cell_type": "code",
   "execution_count": null,
   "metadata": {
    "collapsed": false
   },
   "outputs": [],
   "source": [
    "fig, ax = plt.subplots(figsize=(8, 5))\n",
    "ax.plot(pixar_movies[\"Year Released\"], ratio_inflation, 'o-', label=\"Consumer price\")\n",
    "ax.plot(pixar_movies[\"Year Released\"], ratio_ticketprice, 'o-', label=\"ticket price\")\n",
    "plt.legend()"
   ]
  },
  {
   "cell_type": "code",
   "execution_count": null,
   "metadata": {
    "collapsed": false
   },
   "outputs": [],
   "source": [
    "pixar_movies.set_index(\"Movie\", inplace=True)"
   ]
  },
  {
   "cell_type": "code",
   "execution_count": null,
   "metadata": {
    "collapsed": false
   },
   "outputs": [],
   "source": [
    "pixar_movies[\"Production Budget (millions, USD)\"].plot(kind='line', rot=90)"
   ]
  },
  {
   "cell_type": "code",
   "execution_count": null,
   "metadata": {
    "collapsed": false
   },
   "outputs": [],
   "source": [
    "fig, ax = plt.subplots(figsize=(8, 5))\n",
    "\n",
    "ax.plot(pixar_movies[\"Production Budget (millions, USD)\"].values, 'o-')\n",
    "plt.xticks(range(pixar_movies.shape[0]), pixar_movies.index, rotation=90)\n",
    "plt.ylim(20, 220)\n",
    "plt.show()"
   ]
  },
  {
   "cell_type": "code",
   "execution_count": null,
   "metadata": {
    "collapsed": false
   },
   "outputs": [],
   "source": [
    "pixar_movies[\"Production Budget\"].plot(kind='line')\n",
    "plt.xticks(np.arange(0, 15), pixar_movies.index, rotation='vertical')"
   ]
  },
  {
   "cell_type": "code",
   "execution_count": null,
   "metadata": {
    "collapsed": true
   },
   "outputs": [],
   "source": [
    "filtered_pixar = pixar_movies.dropna()"
   ]
  },
  {
   "cell_type": "code",
   "execution_count": null,
   "metadata": {
    "collapsed": false
   },
   "outputs": [],
   "source": [
    "filtered_pixar"
   ]
  },
  {
   "cell_type": "code",
   "execution_count": null,
   "metadata": {
    "collapsed": false
   },
   "outputs": [],
   "source": [
    "filtered_pixar.loc[\"Cars\"]"
   ]
  },
  {
   "cell_type": "code",
   "execution_count": null,
   "metadata": {
    "collapsed": false
   },
   "outputs": [],
   "source": [
    "filtered_pixar[[\"RT Score\", \"IMDB Score\"]]"
   ]
  },
  {
   "cell_type": "code",
   "execution_count": null,
   "metadata": {
    "collapsed": false
   },
   "outputs": [],
   "source": [
    "critics_reviews = pixar_movies[[\"RT Score\", \"IMDB Score\", \"Metacritic Score\"]]"
   ]
  },
  {
   "cell_type": "code",
   "execution_count": null,
   "metadata": {
    "collapsed": false
   },
   "outputs": [],
   "source": [
    "critics_reviews"
   ]
  },
  {
   "cell_type": "code",
   "execution_count": null,
   "metadata": {
    "collapsed": false
   },
   "outputs": [],
   "source": [
    "fig = critics_reviews.plot(figsize=(10, 6))\n",
    "plt.xticks(np.arange(15), critics_reviews.index, rotation='vertical')"
   ]
  },
  {
   "cell_type": "code",
   "execution_count": null,
   "metadata": {
    "collapsed": false
   },
   "outputs": [],
   "source": [
    "type(fig)"
   ]
  },
  {
   "cell_type": "code",
   "execution_count": null,
   "metadata": {
    "collapsed": false
   },
   "outputs": [],
   "source": [
    "critics_reviews.plot(kind=\"box\", figsize=(9, 5), sym=\"k.\")"
   ]
  },
  {
   "cell_type": "code",
   "execution_count": null,
   "metadata": {
    "collapsed": false
   },
   "outputs": [],
   "source": [
    "fig, axs = plt.subplots(1, 2, figsize=(20, 12))\n",
    "critics_reviews.plot(ax=axs[0])\n",
    "sns.boxplot(data=critics_reviews)"
   ]
  },
  {
   "cell_type": "code",
   "execution_count": null,
   "metadata": {
    "collapsed": false
   },
   "outputs": [],
   "source": [
    "pixar_movies"
   ]
  },
  {
   "cell_type": "code",
   "execution_count": null,
   "metadata": {
    "collapsed": false
   },
   "outputs": [],
   "source": [
    "pixar_movies = pixar_movies.sort_values([\"Year Released\"], ascending=True)"
   ]
  },
  {
   "cell_type": "code",
   "execution_count": null,
   "metadata": {
    "collapsed": true
   },
   "outputs": [],
   "source": [
    "filtered_pixar = filtered_pixar.sort_values([\"Year Released\"], ascending=True)"
   ]
  },
  {
   "cell_type": "code",
   "execution_count": null,
   "metadata": {
    "collapsed": false
   },
   "outputs": [],
   "source": [
    "filtered_pixar"
   ]
  },
  {
   "cell_type": "code",
   "execution_count": null,
   "metadata": {
    "collapsed": true
   },
   "outputs": [],
   "source": [
    "revenue_proportions = filtered_pixar[[\"Domestic %\", \"International %\"]]"
   ]
  },
  {
   "cell_type": "code",
   "execution_count": null,
   "metadata": {
    "collapsed": false
   },
   "outputs": [],
   "source": [
    "revenue_proportions.plot(kind=\"bar\", stacked=True)"
   ]
  },
  {
   "cell_type": "code",
   "execution_count": null,
   "metadata": {
    "collapsed": false
   },
   "outputs": [],
   "source": [
    "revenue_proportions[\"Domestic %\"] + revenue_proportions[\"International %\"]"
   ]
  },
  {
   "cell_type": "code",
   "execution_count": null,
   "metadata": {
    "collapsed": false
   },
   "outputs": [],
   "source": [
    "revenue_proportions.loc[\"Toy Story 2\"]"
   ]
  },
  {
   "cell_type": "markdown",
   "metadata": {
    "collapsed": true
   },
   "source": [
    "Create a grouped bar plot to explore if there's any correlation between the number of Oscars a movie was nominated for and the number it actually won.<br/>\n",
    "What plots can you generate to better understand which columns correlate with the Adjusted Domestic Gross revenue column?<br/>"
   ]
  },
  {
   "cell_type": "code",
   "execution_count": null,
   "metadata": {
    "collapsed": true
   },
   "outputs": [],
   "source": []
  }
 ],
 "metadata": {
  "kernelspec": {
   "display_name": "Python 2",
   "language": "python",
   "name": "python2"
  },
  "language_info": {
   "codemirror_mode": {
    "name": "ipython",
    "version": 2
   },
   "file_extension": ".py",
   "mimetype": "text/x-python",
   "name": "python",
   "nbconvert_exporter": "python",
   "pygments_lexer": "ipython2",
   "version": "2.7.11"
  }
 },
 "nbformat": 4,
 "nbformat_minor": 0
}
